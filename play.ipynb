{
 "cells": [
  {
   "cell_type": "code",
   "execution_count": 1,
   "id": "43df91cb-3611-44d1-ae80-f160d9e31bd6",
   "metadata": {},
   "outputs": [
    {
     "name": "stdout",
     "output_type": "stream",
     "text": [
      "Python 3.12.3\n"
     ]
    }
   ],
   "source": [
    "!python -V"
   ]
  },
  {
   "cell_type": "code",
   "execution_count": 1,
   "id": "1eee616c-c519-47d6-94be-d732a86d36e2",
   "metadata": {},
   "outputs": [
    {
     "name": "stderr",
     "output_type": "stream",
     "text": [
      "\u001b[32m2024-05-09 23:33:58.054\u001b[0m | \u001b[1mINFO    \u001b[0m | \u001b[36mapp.config.config\u001b[0m:\u001b[36mload_config\u001b[0m:\u001b[36m23\u001b[0m - \u001b[1mload config from file: /Users/roper/work/auto_video_generator/config.toml\u001b[0m\n",
      "\u001b[32m2024-05-09 23:33:58.056\u001b[0m | \u001b[1mINFO    \u001b[0m | \u001b[36mapp.config.config\u001b[0m:\u001b[36m<module>\u001b[0m:\u001b[36m71\u001b[0m - \u001b[1mMoneyPrinterTurbo v1.1.5\u001b[0m\n"
     ]
    },
    {
     "name": "stdout",
     "output_type": "stream",
     "text": [
      "hello\n"
     ]
    }
   ],
   "source": [
    "import math\n",
    "import os.path\n",
    "import re\n",
    "import sys\n",
    "from os import path\n",
    "\n",
    "from loguru import logger\n",
    "\n",
    "from app.config import config\n",
    "from app.models import const\n",
    "from app.models.schema import VideoParams, VideoConcatMode\n",
    "from app.services import llm, material, voice, video, subtitle\n",
    "from app.services import state as sm\n",
    "from app.utils import utils"
   ]
  },
  {
   "cell_type": "code",
   "execution_count": 2,
   "id": "6a4941cd-45f6-4a0d-931f-d49409ad1b2c",
   "metadata": {},
   "outputs": [],
   "source": [
    "params_dict = {\n",
    "        \"video_subject\": \"怎么快速赚到100万\",\n",
    "        \"video_aspect\": \"9:16\",\n",
    "        \"voice_name\": \"zh-CN-XiaoxiaoNeural\",\n",
    "        \"enable_bgm\": False,\n",
    "        \"font_name\": \"STHeitiMedium 黑体-中\",\n",
    "        \"text_color\": \"#FFFFFF\",\n",
    "        \"font_size\": 60,\n",
    "        \"stroke_color\": \"#000000\",\n",
    "        \"stroke_width\": 1.5\n",
    "    }\n",
    "\n",
    "params = VideoParams(**params_dict)\n",
    "task_id = 'task_id_test_123'"
   ]
  },
  {
   "cell_type": "code",
   "execution_count": 3,
   "id": "128b3f69-364c-41b1-a14c-5d41705f19be",
   "metadata": {},
   "outputs": [
    {
     "data": {
      "text/plain": [
       "'怎么快速赚到100万'"
      ]
     },
     "execution_count": 3,
     "metadata": {},
     "output_type": "execute_result"
    }
   ],
   "source": [
    "params.video_subject\n"
   ]
  },
  {
   "cell_type": "code",
   "execution_count": 4,
   "id": "3fd1f944-aa2a-4fcd-9355-73cd6e5e579a",
   "metadata": {},
   "outputs": [
    {
     "data": {
      "text/plain": [
       "'gpt-3.5-turbo'"
      ]
     },
     "execution_count": 4,
     "metadata": {},
     "output_type": "execute_result"
    }
   ],
   "source": [
    "config.app.get(\"openai_model_name\", \"openai\")"
   ]
  },
  {
   "cell_type": "code",
   "execution_count": 5,
   "id": "23071007-d7f9-43da-b3a1-cd117b64287d",
   "metadata": {},
   "outputs": [
    {
     "name": "stdout",
     "output_type": "stream",
     "text": [
      "\u001b[32m2024-05-09 23:34:01\u001b[0m | \u001b[1mINFO\u001b[0m | \"./../../../../var/folders/20/h5ktr5ls0zgdjw1dtlxcrlpc0000gn/T/ipykernel_81112/2255889761.py:6\":\u001b[34m <module>\u001b[0m - \u001b[1m\n",
      "\n",
      "## generating video script\u001b[0m\n",
      "\u001b[32m2024-05-09 23:34:01\u001b[0m | \u001b[1mINFO\u001b[0m | \"./app/services/llm.py:215\":\u001b[34m generate_script\u001b[0m - \u001b[1msubject: 怎么快速赚到100万\u001b[0m\n",
      "\u001b[32m2024-05-09 23:34:01\u001b[0m | \u001b[1mINFO\u001b[0m | \"./app/services/llm.py:16\":\u001b[34m _generate_response\u001b[0m - \u001b[1mllm provider: openai\u001b[0m\n",
      "\u001b[32m2024-05-09 23:34:05\u001b[0m | \u001b[32m\u001b[1mSUCCESS\u001b[0m | \"./app/services/llm.py:248\":\u001b[34m generate_script\u001b[0m - \u001b[32m\u001b[1mcompleted: \n",
      "首先，要确立明确的目标和计划。接着，要不断学习和提升自己的技能，以增加赚钱的机会。同时，要找到一个适合自己的赚钱方式，并全力以赴。还要注重在投资和理财方面的知识，以实现财务自由的目标。最后，要坚持不懈地努力，相信自己能够实现赚到100万的目标。\u001b[0m\n"
     ]
    }
   ],
   "source": [
    "video_subject = params.video_subject\n",
    "voice_name = voice.parse_voice_name(params.voice_name)\n",
    "paragraph_number = params.paragraph_number\n",
    "n_threads = params.n_threads\n",
    "max_clip_duration = params.video_clip_duration\n",
    "logger.info(\"\\n\\n## generating video script\")\n",
    "video_script = params.video_script.strip()\n",
    "if not video_script:\n",
    "    video_script = llm.generate_script(video_subject=video_subject, language=params.video_language,\n",
    "                                       paragraph_number=paragraph_number)\n",
    "else:\n",
    "    logger.debug(f\"video script: \\n{video_script}\")\n",
    "sm.state.update_task(task_id, state=const.TASK_STATE_PROCESSING, progress=10)"
   ]
  },
  {
   "cell_type": "code",
   "execution_count": 6,
   "id": "6674bb31-67fe-467b-87e1-a56dcd9dacb7",
   "metadata": {},
   "outputs": [
    {
     "name": "stdout",
     "output_type": "stream",
     "text": [
      "\u001b[32m2024-05-09 23:34:05\u001b[0m | \u001b[1mINFO\u001b[0m | \"./../../../../var/folders/20/h5ktr5ls0zgdjw1dtlxcrlpc0000gn/T/ipykernel_81112/447892559.py:1\":\u001b[34m <module>\u001b[0m - \u001b[1m\n",
      "\n",
      "## generating video terms\u001b[0m\n",
      "\u001b[32m2024-05-09 23:34:05\u001b[0m | \u001b[1mINFO\u001b[0m | \"./app/services/llm.py:279\":\u001b[34m generate_terms\u001b[0m - \u001b[1msubject: 怎么快速赚到100万\u001b[0m\n",
      "\u001b[32m2024-05-09 23:34:05\u001b[0m | \u001b[1mINFO\u001b[0m | \"./app/services/llm.py:16\":\u001b[34m _generate_response\u001b[0m - \u001b[1mllm provider: openai\u001b[0m\n",
      "\u001b[32m2024-05-09 23:34:06\u001b[0m | \u001b[32m\u001b[1mSUCCESS\u001b[0m | \"./app/services/llm.py:300\":\u001b[34m generate_terms\u001b[0m - \u001b[32m\u001b[1mcompleted: \n",
      "['quick money', 'financial goal', 'investment knowledge', 'money-making opportunities', 'wealth accumulation']\u001b[0m\n"
     ]
    }
   ],
   "source": [
    "logger.info(\"\\n\\n## generating video terms\")\n",
    "video_terms = params.video_terms\n",
    "if not video_terms:\n",
    "    video_terms = llm.generate_terms(video_subject=video_subject, video_script=video_script, amount=5)\n",
    "else:\n",
    "    if isinstance(video_terms, str):\n",
    "        video_terms = [term.strip() for term in re.split(r'[,，]', video_terms)]\n",
    "    elif isinstance(video_terms, list):\n",
    "        video_terms = [term.strip() for term in video_terms]\n",
    "    else:\n",
    "        raise ValueError(\"video_terms must be a string or a list of strings.\")\n",
    "    logger.debug(f\"video terms: {utils.to_json(video_terms)}\")\n",
    "script_file = path.join(utils.task_dir(task_id), f\"script.json\")\n",
    "script_data = {\n",
    "    \"script\": video_script,\n",
    "    \"search_terms\": video_terms,\n",
    "    \"params\": params,\n",
    "}\n",
    "with open(script_file, \"w\", encoding=\"utf-8\") as f:\n",
    "    f.write(utils.to_json(script_data))\n",
    "sm.state.update_task(task_id, state=const.TASK_STATE_PROCESSING, progress=20)"
   ]
  },
  {
   "cell_type": "code",
   "execution_count": null,
   "id": "610b5f29-4ce4-4676-ac0f-01195c068c56",
   "metadata": {},
   "outputs": [],
   "source": []
  },
  {
   "cell_type": "code",
   "execution_count": 7,
   "id": "e07d1e8c-77d4-4d0e-9a66-2b43b88355d1",
   "metadata": {},
   "outputs": [
    {
     "name": "stdout",
     "output_type": "stream",
     "text": [
      "\u001b[32m2024-05-09 23:34:06\u001b[0m | \u001b[1mINFO\u001b[0m | \"./../../../../var/folders/20/h5ktr5ls0zgdjw1dtlxcrlpc0000gn/T/ipykernel_81112/2105989780.py:1\":\u001b[34m <module>\u001b[0m - \u001b[1m\n",
      "\n",
      "## generating audio\u001b[0m\n",
      "\u001b[32m2024-05-09 23:34:06\u001b[0m | \u001b[1mINFO\u001b[0m | \"./app/services/voice.py:1051\":\u001b[34m azure_tts_v1\u001b[0m - \u001b[1mstart, voice name: zh-CN-XiaoxiaoNeural, try: 1\u001b[0m\n",
      "\u001b[32m2024-05-09 23:34:06\u001b[0m | \u001b[31m\u001b[1mERROR\u001b[0m | \"./app/services/voice.py:1073\":\u001b[34m azure_tts_v1\u001b[0m - \u001b[31m\u001b[1mfailed, error: This event loop is already running\u001b[0m\n",
      "\u001b[32m2024-05-09 23:34:06\u001b[0m | \u001b[1mINFO\u001b[0m | \"./app/services/voice.py:1051\":\u001b[34m azure_tts_v1\u001b[0m - \u001b[1mstart, voice name: zh-CN-XiaoxiaoNeural, try: 2\u001b[0m\n",
      "\u001b[32m2024-05-09 23:34:06\u001b[0m | \u001b[31m\u001b[1mERROR\u001b[0m | \"./app/services/voice.py:1073\":\u001b[34m azure_tts_v1\u001b[0m - \u001b[31m\u001b[1mfailed, error: This event loop is already running\u001b[0m\n",
      "\u001b[32m2024-05-09 23:34:06\u001b[0m | \u001b[1mINFO\u001b[0m | \"./app/services/voice.py:1051\":\u001b[34m azure_tts_v1\u001b[0m - \u001b[1mstart, voice name: zh-CN-XiaoxiaoNeural, try: 3\u001b[0m\n",
      "\u001b[32m2024-05-09 23:34:06\u001b[0m | \u001b[31m\u001b[1mERROR\u001b[0m | \"./app/services/voice.py:1073\":\u001b[34m azure_tts_v1\u001b[0m - \u001b[31m\u001b[1mfailed, error: This event loop is already running\u001b[0m\n",
      "\u001b[32m2024-05-09 23:34:06\u001b[0m | \u001b[31m\u001b[1mERROR\u001b[0m | \"./../../../../var/folders/20/h5ktr5ls0zgdjw1dtlxcrlpc0000gn/T/ipykernel_81112/2105989780.py:6\":\u001b[34m <module>\u001b[0m - \u001b[31m\u001b[1mfailed to generate audio:\n",
      "1. check if the language of the voice matches the language of the video script.\n",
      "2. check if the network is available. If you are in China, it is recommended to use a VPN and enable the global traffic mode.\u001b[0m\n"
     ]
    },
    {
     "name": "stderr",
     "output_type": "stream",
     "text": [
      "/Users/roper/work/auto_video_generator/app/services/voice.py:1073: RuntimeWarning: coroutine 'azure_tts_v1.<locals>._do' was never awaited\n",
      "  logger.error(f\"failed, error: {str(e)}\")\n",
      "RuntimeWarning: Enable tracemalloc to get the object allocation traceback\n"
     ]
    },
    {
     "ename": "AttributeError",
     "evalue": "'NoneType' object has no attribute 'offset'",
     "output_type": "error",
     "traceback": [
      "\u001b[0;31m---------------------------------------------------------------------------\u001b[0m",
      "\u001b[0;31mAttributeError\u001b[0m                            Traceback (most recent call last)",
      "Cell \u001b[0;32mIn[7], line 13\u001b[0m\n\u001b[1;32m      5\u001b[0m     sm\u001b[38;5;241m.\u001b[39mstate\u001b[38;5;241m.\u001b[39mupdate_task(task_id, state\u001b[38;5;241m=\u001b[39mconst\u001b[38;5;241m.\u001b[39mTASK_STATE_FAILED)\n\u001b[1;32m      6\u001b[0m     logger\u001b[38;5;241m.\u001b[39merror(\n\u001b[1;32m      7\u001b[0m \u001b[38;5;250m        \u001b[39m\u001b[38;5;124;03m\"\"\"failed to generate audio:\u001b[39;00m\n\u001b[1;32m      8\u001b[0m \u001b[38;5;124;03m1. check if the language of the voice matches the language of the video script.\u001b[39;00m\n\u001b[1;32m      9\u001b[0m \u001b[38;5;124;03m2. check if the network is available. If you are in China, it is recommended to use a VPN and enable the global traffic mode.\u001b[39;00m\n\u001b[1;32m     10\u001b[0m \u001b[38;5;124;03m    \"\"\"\u001b[39;00m\u001b[38;5;241m.\u001b[39mstrip()\n\u001b[1;32m     11\u001b[0m     )\n\u001b[0;32m---> 13\u001b[0m audio_duration \u001b[38;5;241m=\u001b[39m \u001b[43mvoice\u001b[49m\u001b[38;5;241;43m.\u001b[39;49m\u001b[43mget_audio_duration\u001b[49m\u001b[43m(\u001b[49m\u001b[43msub_maker\u001b[49m\u001b[43m)\u001b[49m\n\u001b[1;32m     14\u001b[0m audio_duration \u001b[38;5;241m=\u001b[39m math\u001b[38;5;241m.\u001b[39mceil(audio_duration)\n\u001b[1;32m     15\u001b[0m sm\u001b[38;5;241m.\u001b[39mstate\u001b[38;5;241m.\u001b[39mupdate_task(task_id, state\u001b[38;5;241m=\u001b[39mconst\u001b[38;5;241m.\u001b[39mTASK_STATE_PROCESSING, progress\u001b[38;5;241m=\u001b[39m\u001b[38;5;241m30\u001b[39m)\n",
      "File \u001b[0;32m~/work/auto_video_generator/app/services/voice.py:1257\u001b[0m, in \u001b[0;36mget_audio_duration\u001b[0;34m(sub_maker)\u001b[0m\n\u001b[1;32m   1253\u001b[0m \u001b[38;5;28;01mdef\u001b[39;00m \u001b[38;5;21mget_audio_duration\u001b[39m(sub_maker: submaker\u001b[38;5;241m.\u001b[39mSubMaker):\n\u001b[1;32m   1254\u001b[0m \u001b[38;5;250m    \u001b[39m\u001b[38;5;124;03m\"\"\"\u001b[39;00m\n\u001b[1;32m   1255\u001b[0m \u001b[38;5;124;03m    获取音频时长\u001b[39;00m\n\u001b[1;32m   1256\u001b[0m \u001b[38;5;124;03m    \"\"\"\u001b[39;00m\n\u001b[0;32m-> 1257\u001b[0m     \u001b[38;5;28;01mif\u001b[39;00m \u001b[38;5;129;01mnot\u001b[39;00m \u001b[43msub_maker\u001b[49m\u001b[38;5;241;43m.\u001b[39;49m\u001b[43moffset\u001b[49m:\n\u001b[1;32m   1258\u001b[0m         \u001b[38;5;28;01mreturn\u001b[39;00m \u001b[38;5;241m0.0\u001b[39m\n\u001b[1;32m   1259\u001b[0m     \u001b[38;5;28;01mreturn\u001b[39;00m sub_maker\u001b[38;5;241m.\u001b[39moffset[\u001b[38;5;241m-\u001b[39m\u001b[38;5;241m1\u001b[39m][\u001b[38;5;241m1\u001b[39m] \u001b[38;5;241m/\u001b[39m \u001b[38;5;241m10000000\u001b[39m\n",
      "\u001b[0;31mAttributeError\u001b[0m: 'NoneType' object has no attribute 'offset'"
     ]
    }
   ],
   "source": [
    "logger.info(\"\\n\\n## generating audio\")\n",
    "audio_file = path.join(utils.task_dir(task_id), f\"audio.mp3\")\n",
    "sub_maker = voice.tts(text=video_script, voice_name=voice_name, voice_file=audio_file)\n",
    "if sub_maker is None:\n",
    "    sm.state.update_task(task_id, state=const.TASK_STATE_FAILED)\n",
    "    logger.error(\n",
    "        \"\"\"failed to generate audio:\n",
    "1. check if the language of the voice matches the language of the video script.\n",
    "2. check if the network is available. If you are in China, it is recommended to use a VPN and enable the global traffic mode.\n",
    "    \"\"\".strip()\n",
    "    )\n",
    "    \n",
    "audio_duration = voice.get_audio_duration(sub_maker)\n",
    "audio_duration = math.ceil(audio_duration)\n",
    "sm.state.update_task(task_id, state=const.TASK_STATE_PROCESSING, progress=30)"
   ]
  },
  {
   "cell_type": "code",
   "execution_count": null,
   "id": "2d601f6d-03f5-46fd-a398-604e80e8a424",
   "metadata": {},
   "outputs": [],
   "source": []
  }
 ],
 "metadata": {
  "kernelspec": {
   "display_name": "Python 3 (ipykernel)",
   "language": "python",
   "name": "python3"
  },
  "language_info": {
   "codemirror_mode": {
    "name": "ipython",
    "version": 3
   },
   "file_extension": ".py",
   "mimetype": "text/x-python",
   "name": "python",
   "nbconvert_exporter": "python",
   "pygments_lexer": "ipython3",
   "version": "3.12.3"
  }
 },
 "nbformat": 4,
 "nbformat_minor": 5
}
