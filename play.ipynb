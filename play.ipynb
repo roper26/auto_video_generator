{
 "cells": [
  {
   "cell_type": "code",
   "execution_count": 7,
   "id": "43df91cb-3611-44d1-ae80-f160d9e31bd6",
   "metadata": {
    "scrolled": true
   },
   "outputs": [
    {
     "name": "stdout",
     "output_type": "stream",
     "text": [
      "Python 3.12.3\n"
     ]
    }
   ],
   "source": [
    "!python -V"
   ]
  },
  {
   "cell_type": "code",
   "execution_count": 1,
   "id": "1eee616c-c519-47d6-94be-d732a86d36e2",
   "metadata": {},
   "outputs": [
    {
     "name": "stderr",
     "output_type": "stream",
     "text": [
      "\u001b[32m2024-05-10 20:03:04.042\u001b[0m | \u001b[1mINFO    \u001b[0m | \u001b[36mapp.config.config\u001b[0m:\u001b[36mload_config\u001b[0m:\u001b[36m22\u001b[0m - \u001b[1mload config from file: D:\\work\\MoneyPrinterTurbo/config.toml\u001b[0m\n",
      "\u001b[32m2024-05-10 20:03:04.048\u001b[0m | \u001b[1mINFO    \u001b[0m | \u001b[36mapp.config.config\u001b[0m:\u001b[36m<module>\u001b[0m:\u001b[36m70\u001b[0m - \u001b[1mMoneyPrinterTurbo v1.1.5\u001b[0m\n"
     ]
    }
   ],
   "source": [
    "import math\n",
    "import os.path\n",
    "import re\n",
    "import sys\n",
    "from os import path\n",
    "\n",
    "from loguru import logger\n",
    "\n",
    "from app.config import config\n",
    "from app.models import const\n",
    "from app.models.schema import VideoParams, VideoConcatMode\n",
    "from app.services import llm, material, voice, video, subtitle\n",
    "from app.services import state as sm\n",
    "from app.utils import utils"
   ]
  },
  {
   "cell_type": "code",
   "execution_count": 2,
   "id": "6a4941cd-45f6-4a0d-931f-d49409ad1b2c",
   "metadata": {},
   "outputs": [],
   "source": [
    "params_dict = {\n",
    "        \"video_subject\": \"怎么快速赚到100万\",\n",
    "        \"video_aspect\": \"9:16\",\n",
    "        \"voice_name\": \"zh-CN-XiaoxiaoNeural\",\n",
    "        \"enable_bgm\": False,\n",
    "        \"font_name\": \"STHeitiMedium 黑体-中\",\n",
    "        \"text_color\": \"#FFFFFF\",\n",
    "        \"font_size\": 60,\n",
    "        \"stroke_color\": \"#000000\",\n",
    "        \"stroke_width\": 1.5\n",
    "    }\n",
    "\n",
    "params = VideoParams(**params_dict)\n",
    "task_id = 'task_id_test_123'"
   ]
  },
  {
   "cell_type": "code",
   "execution_count": 3,
   "id": "128b3f69-364c-41b1-a14c-5d41705f19be",
   "metadata": {},
   "outputs": [
    {
     "data": {
      "text/plain": [
       "'怎么快速赚到100万'"
      ]
     },
     "execution_count": 3,
     "metadata": {},
     "output_type": "execute_result"
    }
   ],
   "source": [
    "params.video_subject\n"
   ]
  },
  {
   "cell_type": "code",
   "execution_count": 4,
   "id": "3fd1f944-aa2a-4fcd-9355-73cd6e5e579a",
   "metadata": {},
   "outputs": [
    {
     "data": {
      "text/plain": [
       "'gpt-3.5-turbo'"
      ]
     },
     "execution_count": 4,
     "metadata": {},
     "output_type": "execute_result"
    }
   ],
   "source": [
    "config.app.get(\"openai_model_name\", \"openai\")"
   ]
  },
  {
   "cell_type": "code",
   "execution_count": 5,
   "id": "23071007-d7f9-43da-b3a1-cd117b64287d",
   "metadata": {},
   "outputs": [
    {
     "name": "stdout",
     "output_type": "stream",
     "text": [
      "\u001b[32m2024-05-10 20:03:14\u001b[0m | \u001b[1mINFO\u001b[0m | \"./app\\services\\llm.py:215\":\u001b[34m generate_script\u001b[0m - \u001b[1msubject: 怎么快速赚到100万\u001b[0m\n",
      "\u001b[32m2024-05-10 20:03:14\u001b[0m | \u001b[1mINFO\u001b[0m | \"./app\\services\\llm.py:16\":\u001b[34m _generate_response\u001b[0m - \u001b[1mllm provider: openai\u001b[0m\n"
     ]
    },
    {
     "name": "stderr",
     "output_type": "stream",
     "text": [
      "--- Logging error in Loguru Handler #1 ---\n",
      "Record was: {'elapsed': datetime.timedelta(seconds=10, microseconds=492275), 'exception': None, 'extra': {}, 'file': (name='2255889761.py', path='C:\\\\Users\\\\roperluo\\\\AppData\\\\Local\\\\Temp\\\\ipykernel_42196\\\\2255889761.py'), 'function': '<module>', 'level': (name='INFO', no=20, icon='ℹ️'), 'line': 6, 'message': '\\n\\n## generating video script', 'module': '2255889761', 'name': '__main__', 'process': (id=42196, name='MainProcess'), 'thread': (id=43444, name='MainThread'), 'time': datetime(2024, 5, 10, 20, 3, 14, 523626, tzinfo=datetime.timezone(datetime.timedelta(seconds=28800), '中国标准时间'))}\n",
      "Traceback (most recent call last):\n",
      "  File \"D:\\software\\miniforge3\\envs\\video-gen\\Lib\\site-packages\\loguru\\_handler.py\", line 137, in emit\n",
      "    dynamic_format = self._formatter(record)\n",
      "                     ^^^^^^^^^^^^^^^^^^^^^^^\n",
      "  File \"D:\\work\\MoneyPrinterTurbo\\app\\config\\__init__.py\", line 19, in format_record\n",
      "    relative_path = os.path.relpath(file_path, root_dir)\n",
      "                    ^^^^^^^^^^^^^^^^^^^^^^^^^^^^^^^^^^^^\n",
      "  File \"<frozen ntpath>\", line 791, in relpath\n",
      "ValueError: path is on mount 'C:', start on mount 'D:'\n",
      "--- End of logging error ---\n"
     ]
    },
    {
     "name": "stdout",
     "output_type": "stream",
     "text": [
      "\u001b[32m2024-05-10 20:03:18\u001b[0m | \u001b[32m\u001b[1mSUCCESS\u001b[0m | \"./app\\services\\llm.py:248\":\u001b[34m generate_script\u001b[0m - \u001b[32m\u001b[1mcompleted: \n",
      "本视频将教你如何快速赚到100万。首先，要制定一个详细的理财计划，包括存款、投资和理财产品的选择。其次，要提高自己的收入水平，可以考虑副业、加班或职业转换。最后，要控制消费习惯，避免过度消费和无谓支出。践行这些方法，相信你很快可以赚到100万。\u001b[0m\n"
     ]
    }
   ],
   "source": [
    "video_subject = params.video_subject\n",
    "voice_name = voice.parse_voice_name(params.voice_name)\n",
    "paragraph_number = params.paragraph_number\n",
    "n_threads = params.n_threads\n",
    "max_clip_duration = params.video_clip_duration\n",
    "logger.info(\"\\n\\n## generating video script\")\n",
    "video_script = params.video_script.strip()\n",
    "if not video_script:\n",
    "    video_script = llm.generate_script(video_subject=video_subject, language=params.video_language,\n",
    "                                       paragraph_number=paragraph_number)\n",
    "else:\n",
    "    logger.debug(f\"video script: \\n{video_script}\")\n",
    "sm.state.update_task(task_id, state=const.TASK_STATE_PROCESSING, progress=10)"
   ]
  },
  {
   "cell_type": "code",
   "execution_count": 6,
   "id": "6674bb31-67fe-467b-87e1-a56dcd9dacb7",
   "metadata": {},
   "outputs": [
    {
     "name": "stdout",
     "output_type": "stream",
     "text": [
      "\u001b[32m2024-05-10 20:03:18\u001b[0m | \u001b[1mINFO\u001b[0m | \"./app\\services\\llm.py:279\":\u001b[34m generate_terms\u001b[0m - \u001b[1msubject: 怎么快速赚到100万\u001b[0m\n",
      "\u001b[32m2024-05-10 20:03:18\u001b[0m | \u001b[1mINFO\u001b[0m | \"./app\\services\\llm.py:16\":\u001b[34m _generate_response\u001b[0m - \u001b[1mllm provider: openai\u001b[0m\n"
     ]
    },
    {
     "name": "stderr",
     "output_type": "stream",
     "text": [
      "--- Logging error in Loguru Handler #1 ---\n",
      "Record was: {'elapsed': datetime.timedelta(seconds=14, microseconds=357920), 'exception': None, 'extra': {}, 'file': (name='447892559.py', path='C:\\\\Users\\\\roperluo\\\\AppData\\\\Local\\\\Temp\\\\ipykernel_42196\\\\447892559.py'), 'function': '<module>', 'level': (name='INFO', no=20, icon='ℹ️'), 'line': 1, 'message': '\\n\\n## generating video terms', 'module': '447892559', 'name': '__main__', 'process': (id=42196, name='MainProcess'), 'thread': (id=43444, name='MainThread'), 'time': datetime(2024, 5, 10, 20, 3, 18, 389271, tzinfo=datetime.timezone(datetime.timedelta(seconds=28800), '中国标准时间'))}\n",
      "Traceback (most recent call last):\n",
      "  File \"D:\\software\\miniforge3\\envs\\video-gen\\Lib\\site-packages\\loguru\\_handler.py\", line 137, in emit\n",
      "    dynamic_format = self._formatter(record)\n",
      "                     ^^^^^^^^^^^^^^^^^^^^^^^\n",
      "  File \"D:\\work\\MoneyPrinterTurbo\\app\\config\\__init__.py\", line 19, in format_record\n",
      "    relative_path = os.path.relpath(file_path, root_dir)\n",
      "                    ^^^^^^^^^^^^^^^^^^^^^^^^^^^^^^^^^^^^\n",
      "  File \"<frozen ntpath>\", line 791, in relpath\n",
      "ValueError: path is on mount 'C:', start on mount 'D:'\n",
      "--- End of logging error ---\n"
     ]
    },
    {
     "name": "stdout",
     "output_type": "stream",
     "text": [
      "\u001b[32m2024-05-10 20:03:19\u001b[0m | \u001b[32m\u001b[1mSUCCESS\u001b[0m | \"./app\\services\\llm.py:300\":\u001b[34m generate_terms\u001b[0m - \u001b[32m\u001b[1mcompleted: \n",
      "['how to make money fast', 'financial planning tips', 'increase income strategies', 'investment options guide', 'control spending habits']\u001b[0m\n"
     ]
    }
   ],
   "source": [
    "logger.info(\"\\n\\n## generating video terms\")\n",
    "video_terms = params.video_terms\n",
    "if not video_terms:\n",
    "    video_terms = llm.generate_terms(video_subject=video_subject, video_script=video_script, amount=5)\n",
    "else:\n",
    "    if isinstance(video_terms, str):\n",
    "        video_terms = [term.strip() for term in re.split(r'[,，]', video_terms)]\n",
    "    elif isinstance(video_terms, list):\n",
    "        video_terms = [term.strip() for term in video_terms]\n",
    "    else:\n",
    "        raise ValueError(\"video_terms must be a string or a list of strings.\")\n",
    "    logger.debug(f\"video terms: {utils.to_json(video_terms)}\")\n",
    "script_file = path.join(utils.task_dir(task_id), f\"script.json\")\n",
    "script_data = {\n",
    "    \"script\": video_script,\n",
    "    \"search_terms\": video_terms,\n",
    "    \"params\": params,\n",
    "}\n",
    "with open(script_file, \"w\", encoding=\"utf-8\") as f:\n",
    "    f.write(utils.to_json(script_data))\n",
    "sm.state.update_task(task_id, state=const.TASK_STATE_PROCESSING, progress=20)"
   ]
  },
  {
   "cell_type": "code",
   "execution_count": 14,
   "id": "610b5f29-4ce4-4676-ac0f-01195c068c56",
   "metadata": {},
   "outputs": [],
   "source": [
    "import asyncio\n",
    "import os\n",
    "import re\n",
    "from datetime import datetime\n",
    "from xml.sax.saxutils import unescape\n",
    "from edge_tts.submaker import mktimestamp\n",
    "from loguru import logger\n",
    "from edge_tts import submaker, SubMaker\n",
    "import edge_tts\n",
    "from moviepy.video.tools import subtitles\n",
    "\n",
    "from app.config import config\n",
    "from app.utils import utils\n",
    "import nest_asyncio\n",
    "\n",
    "nest_asyncio.apply()\n",
    "def azure_tts_v1(text: str, voice_name: str, voice_file: str) -> [SubMaker, None]:\n",
    "    text = text.strip()\n",
    "    for i in range(3):\n",
    "        # try:\n",
    "            logger.info(f\"start, voice name: {voice_name}, try: {i + 1}\")\n",
    "\n",
    "            async def _do() -> SubMaker:\n",
    "                communicate = edge_tts.Communicate(text, voice_name)\n",
    "                sub_maker = edge_tts.SubMaker()\n",
    "                with open(voice_file, \"wb\") as file:\n",
    "                    async for chunk in communicate.stream():\n",
    "                        if chunk[\"type\"] == \"audio\":\n",
    "                            file.write(chunk[\"data\"])\n",
    "                        elif chunk[\"type\"] == \"WordBoundary\":\n",
    "                            sub_maker.create_sub((chunk[\"offset\"], chunk[\"duration\"]), chunk[\"text\"])\n",
    "                return sub_maker\n",
    "\n",
    "            # sub_maker = asyncio.get_event_loop().run_until_complete(_do())\n",
    "            sub_maker = asyncio.run(_do())\n",
    "            if not sub_maker or not sub_maker.subs:\n",
    "                logger.warning(f\"failed, sub_maker is None or sub_maker.subs is None\")\n",
    "                continue\n",
    "\n",
    "            logger.info(f\"completed, output file: {voice_file}\")\n",
    "            return sub_maker\n",
    "        # except Exception as e:\n",
    "        #     logger.error(f\"failed, error: {str(e)}\")\n",
    "    return None"
   ]
  },
  {
   "cell_type": "code",
   "execution_count": 15,
   "id": "e07d1e8c-77d4-4d0e-9a66-2b43b88355d1",
   "metadata": {},
   "outputs": [
    {
     "name": "stderr",
     "output_type": "stream",
     "text": [
      "--- Logging error in Loguru Handler #1 ---\n",
      "Record was: {'elapsed': datetime.timedelta(seconds=503, microseconds=593448), 'exception': None, 'extra': {}, 'file': (name='3954587724.py', path='C:\\\\Users\\\\roperluo\\\\AppData\\\\Local\\\\Temp\\\\ipykernel_42196\\\\3954587724.py'), 'function': 'azure_tts_v1', 'level': (name='INFO', no=20, icon='ℹ️'), 'line': 21, 'message': 'start, voice name: zh-CN-XiaoxiaoNeural, try: 1', 'module': '3954587724', 'name': '__main__', 'process': (id=42196, name='MainProcess'), 'thread': (id=43444, name='MainThread'), 'time': datetime(2024, 5, 10, 20, 11, 27, 624799, tzinfo=datetime.timezone(datetime.timedelta(seconds=28800), '中国标准时间'))}\n",
      "Traceback (most recent call last):\n",
      "  File \"D:\\software\\miniforge3\\envs\\video-gen\\Lib\\site-packages\\loguru\\_handler.py\", line 137, in emit\n",
      "    dynamic_format = self._formatter(record)\n",
      "                     ^^^^^^^^^^^^^^^^^^^^^^^\n",
      "  File \"D:\\work\\MoneyPrinterTurbo\\app\\config\\__init__.py\", line 19, in format_record\n",
      "    relative_path = os.path.relpath(file_path, root_dir)\n",
      "                    ^^^^^^^^^^^^^^^^^^^^^^^^^^^^^^^^^^^^\n",
      "  File \"<frozen ntpath>\", line 791, in relpath\n",
      "ValueError: path is on mount 'C:', start on mount 'D:'\n",
      "--- End of logging error ---\n",
      "--- Logging error in Loguru Handler #1 ---\n",
      "Record was: {'elapsed': datetime.timedelta(seconds=506, microseconds=322329), 'exception': None, 'extra': {}, 'file': (name='3954587724.py', path='C:\\\\Users\\\\roperluo\\\\AppData\\\\Local\\\\Temp\\\\ipykernel_42196\\\\3954587724.py'), 'function': 'azure_tts_v1', 'level': (name='INFO', no=20, icon='ℹ️'), 'line': 40, 'message': 'completed, output file: D:\\\\work\\\\MoneyPrinterTurbo\\\\storage\\\\tasks\\\\task_id_test_123\\\\audio.mp3', 'module': '3954587724', 'name': '__main__', 'process': (id=42196, name='MainProcess'), 'thread': (id=43444, name='MainThread'), 'time': datetime(2024, 5, 10, 20, 11, 30, 353680, tzinfo=datetime.timezone(datetime.timedelta(seconds=28800), '中国标准时间'))}\n",
      "Traceback (most recent call last):\n",
      "  File \"D:\\software\\miniforge3\\envs\\video-gen\\Lib\\site-packages\\loguru\\_handler.py\", line 137, in emit\n",
      "    dynamic_format = self._formatter(record)\n",
      "                     ^^^^^^^^^^^^^^^^^^^^^^^\n",
      "  File \"D:\\work\\MoneyPrinterTurbo\\app\\config\\__init__.py\", line 19, in format_record\n",
      "    relative_path = os.path.relpath(file_path, root_dir)\n",
      "                    ^^^^^^^^^^^^^^^^^^^^^^^^^^^^^^^^^^^^\n",
      "  File \"<frozen ntpath>\", line 791, in relpath\n",
      "ValueError: path is on mount 'C:', start on mount 'D:'\n",
      "--- End of logging error ---\n"
     ]
    }
   ],
   "source": [
    "\n",
    "audio_file = path.join(utils.task_dir(task_id), f\"audio.mp3\")\n",
    "sub_maker = azure_tts_v1(text=video_script, voice_name=voice_name, voice_file=audio_file)\n",
    "if sub_maker is None:\n",
    "    sm.state.update_task(task_id, state=const.TASK_STATE_FAILED)\n",
    "    logger.error(\n",
    "        \"\"\"failed to generate audio:\n",
    "1. check if the language of the voice matches the language of the video script.\n",
    "2. check if the network is available. If you are in China, it is recommended to use a VPN and enable the global traffic mode.\n",
    "    \"\"\".strip()\n",
    "    )\n",
    "    \n",
    "audio_duration = voice.get_audio_duration(sub_maker)\n",
    "audio_duration = math.ceil(audio_duration)\n",
    "sm.state.update_task(task_id, state=const.TASK_STATE_PROCESSING, progress=30)"
   ]
  },
  {
   "cell_type": "code",
   "execution_count": null,
   "id": "d5449b91-3ada-4f53-b567-817b006bde03",
   "metadata": {},
   "outputs": [],
   "source": []
  },
  {
   "cell_type": "code",
   "execution_count": 17,
   "id": "feaf319b-de2a-4400-a63d-c5e543a617b4",
   "metadata": {},
   "outputs": [
    {
     "name": "stdout",
     "output_type": "stream",
     "text": [
      "\u001b[32m2024-05-10 20:15:34\u001b[0m | \u001b[1mINFO\u001b[0m | \"./app\\services\\voice.py:1232\":\u001b[34m create_subtitle\u001b[0m - \u001b[1mcompleted, subtitle file created: D:\\work\\MoneyPrinterTurbo\\storage\\tasks\\task_id_test_123\\subtitle.srt, duration: 26.475\u001b[0m\n"
     ]
    },
    {
     "name": "stderr",
     "output_type": "stream",
     "text": [
      "--- Logging error in Loguru Handler #1 ---\n",
      "Record was: {'elapsed': datetime.timedelta(seconds=750, microseconds=777049), 'exception': None, 'extra': {}, 'file': (name='3129935629.py', path='C:\\\\Users\\\\roperluo\\\\AppData\\\\Local\\\\Temp\\\\ipykernel_42196\\\\3129935629.py'), 'function': '<module>', 'level': (name='INFO', no=20, icon='ℹ️'), 'line': 5, 'message': '\\n\\n## generating subtitle, provider: edge', 'module': '3129935629', 'name': '__main__', 'process': (id=42196, name='MainProcess'), 'thread': (id=43444, name='MainThread'), 'time': datetime(2024, 5, 10, 20, 15, 34, 808400, tzinfo=datetime.timezone(datetime.timedelta(seconds=28800), '中国标准时间'))}\n",
      "Traceback (most recent call last):\n",
      "  File \"D:\\software\\miniforge3\\envs\\video-gen\\Lib\\site-packages\\loguru\\_handler.py\", line 137, in emit\n",
      "    dynamic_format = self._formatter(record)\n",
      "                     ^^^^^^^^^^^^^^^^^^^^^^^\n",
      "  File \"D:\\work\\MoneyPrinterTurbo\\app\\config\\__init__.py\", line 19, in format_record\n",
      "    relative_path = os.path.relpath(file_path, root_dir)\n",
      "                    ^^^^^^^^^^^^^^^^^^^^^^^^^^^^^^^^^^^^\n",
      "  File \"<frozen ntpath>\", line 791, in relpath\n",
      "ValueError: path is on mount 'C:', start on mount 'D:'\n",
      "--- End of logging error ---\n"
     ]
    }
   ],
   "source": [
    "subtitle_path = \"\"\n",
    "if params.subtitle_enabled:\n",
    "    subtitle_path = path.join(utils.task_dir(task_id), f\"subtitle.srt\")\n",
    "    subtitle_provider = config.app.get(\"subtitle_provider\", \"\").strip().lower()\n",
    "    logger.info(f\"\\n\\n## generating subtitle, provider: {subtitle_provider}\")\n",
    "    subtitle_fallback = False\n",
    "    if subtitle_provider == \"edge\":\n",
    "        voice.create_subtitle(text=video_script, sub_maker=sub_maker, subtitle_file=subtitle_path)\n",
    "        if not os.path.exists(subtitle_path):\n",
    "            subtitle_fallback = True\n",
    "            logger.warning(\"subtitle file not found, fallback to whisper\")\n",
    "    if subtitle_provider == \"whisper\" or subtitle_fallback:\n",
    "        subtitle.create(audio_file=audio_file, subtitle_file=subtitle_path)\n",
    "        logger.info(\"\\n\\n## correcting subtitle\")\n",
    "        subtitle.correct(subtitle_file=subtitle_path, video_script=video_script)\n",
    "    subtitle_lines = subtitle.file_to_subtitles(subtitle_path)\n",
    "    if not subtitle_lines:\n",
    "        logger.warning(f\"subtitle file is invalid: {subtitle_path}\")\n",
    "        subtitle_path = \"\""
   ]
  },
  {
   "cell_type": "code",
   "execution_count": 18,
   "id": "d4bc1bcb-2917-4a18-a37e-2d19f732c7ed",
   "metadata": {},
   "outputs": [
    {
     "data": {
      "text/plain": [
       "<edge_tts.submaker.SubMaker at 0x1e9999f2c30>"
      ]
     },
     "execution_count": 18,
     "metadata": {},
     "output_type": "execute_result"
    }
   ],
   "source": [
    "sub_maker"
   ]
  },
  {
   "cell_type": "code",
   "execution_count": 19,
   "id": "4e2298ee-378b-4c66-9fd5-0e66e237bff8",
   "metadata": {},
   "outputs": [
    {
     "data": {
      "text/plain": [
       "['本',\n",
       " '视频',\n",
       " '将',\n",
       " '教',\n",
       " '你',\n",
       " '如何',\n",
       " '快速',\n",
       " '赚',\n",
       " '到',\n",
       " '100万',\n",
       " '首先',\n",
       " '要',\n",
       " '制定',\n",
       " '一个',\n",
       " '详细',\n",
       " '的',\n",
       " '理财',\n",
       " '计划',\n",
       " '包括',\n",
       " '存款',\n",
       " '投资',\n",
       " '和',\n",
       " '理财',\n",
       " '产品',\n",
       " '的',\n",
       " '选择',\n",
       " '其次',\n",
       " '要',\n",
       " '提高',\n",
       " '自己',\n",
       " '的',\n",
       " '收入',\n",
       " '水平',\n",
       " '可以',\n",
       " '考虑',\n",
       " '副业',\n",
       " '加班',\n",
       " '或',\n",
       " '职业',\n",
       " '转换',\n",
       " '最后',\n",
       " '要',\n",
       " '控制',\n",
       " '消费',\n",
       " '习惯',\n",
       " '避免',\n",
       " '过度',\n",
       " '消费',\n",
       " '和',\n",
       " '无谓',\n",
       " '支出',\n",
       " '践行',\n",
       " '这些',\n",
       " '方法',\n",
       " '相信',\n",
       " '你',\n",
       " '很快',\n",
       " '可以',\n",
       " '赚',\n",
       " '到',\n",
       " '100万']"
      ]
     },
     "execution_count": 19,
     "metadata": {},
     "output_type": "execute_result"
    }
   ],
   "source": [
    "sub_maker.subs"
   ]
  },
  {
   "cell_type": "code",
   "execution_count": 20,
   "id": "acbc5551-39de-436d-a70a-e1773a0c848a",
   "metadata": {},
   "outputs": [
    {
     "data": {
      "text/plain": [
       "[(1000000, 2750000),\n",
       " (2750000, 8375000),\n",
       " (8625000, 10500000),\n",
       " (10625000, 12500000),\n",
       " (12500000, 14000000),\n",
       " (14000000, 17375000),\n",
       " (17500000, 23125000),\n",
       " (24125000, 25875000),\n",
       " (25875000, 27000000),\n",
       " (27250000, 33875000),\n",
       " (39500000, 45250000),\n",
       " (48125000, 49625000),\n",
       " (49750000, 52875000),\n",
       " (52875000, 55000000),\n",
       " (55250000, 59500000),\n",
       " (59500000, 60375000),\n",
       " (60625000, 63875000),\n",
       " (63875000, 68750000),\n",
       " (71625000, 74875000),\n",
       " (75125000, 81250000),\n",
       " (83000000, 88750000),\n",
       " (89750000, 91500000),\n",
       " (91625000, 95125000),\n",
       " (95125000, 98750000),\n",
       " (98750000, 99625000),\n",
       " (99750000, 105250000),\n",
       " (111000000, 116250000),\n",
       " (119250000, 121000000),\n",
       " (121125000, 124875000),\n",
       " (124875000, 127750000),\n",
       " (127750000, 128625000),\n",
       " (128875000, 132000000),\n",
       " (132000000, 137750000),\n",
       " (139625000, 142125000),\n",
       " (142125000, 145500000),\n",
       " (145750000, 150625000),\n",
       " (152750000, 157875000),\n",
       " (158875000, 161000000),\n",
       " (161125000, 164500000),\n",
       " (164500000, 170000000),\n",
       " (175625000, 180750000),\n",
       " (183250000, 185000000),\n",
       " (185000000, 188375000),\n",
       " (188625000, 192250000),\n",
       " (192250000, 196875000),\n",
       " (199500000, 203125000),\n",
       " (203375000, 206250000),\n",
       " (206250000, 211500000),\n",
       " (212500000, 214125000),\n",
       " (214250000, 217875000),\n",
       " (218000000, 222875000),\n",
       " (228625000, 232625000),\n",
       " (232875000, 235625000),\n",
       " (235625000, 240250000),\n",
       " (243375000, 247000000),\n",
       " (247000000, 248125000),\n",
       " (248250000, 252750000),\n",
       " (252875000, 255375000),\n",
       " (255375000, 257250000),\n",
       " (257250000, 258500000),\n",
       " (258750000, 264750000)]"
      ]
     },
     "execution_count": 20,
     "metadata": {},
     "output_type": "execute_result"
    }
   ],
   "source": [
    "sub_maker.offset"
   ]
  },
  {
   "cell_type": "code",
   "execution_count": 21,
   "id": "3e2a75ef-436f-439f-8eac-81e09ad21268",
   "metadata": {},
   "outputs": [
    {
     "name": "stdout",
     "output_type": "stream",
     "text": [
      "61 61\n"
     ]
    }
   ],
   "source": [
    "print(len(sub_maker.subs), len(sub_maker.offset))"
   ]
  },
  {
   "cell_type": "code",
   "execution_count": null,
   "id": "efefdddf-89f3-4802-83a1-2cfd5ddfb827",
   "metadata": {},
   "outputs": [],
   "source": []
  }
 ],
 "metadata": {
  "kernelspec": {
   "display_name": "Python 3 (ipykernel)",
   "language": "python",
   "name": "python3"
  },
  "language_info": {
   "codemirror_mode": {
    "name": "ipython",
    "version": 3
   },
   "file_extension": ".py",
   "mimetype": "text/x-python",
   "name": "python",
   "nbconvert_exporter": "python",
   "pygments_lexer": "ipython3",
   "version": "3.12.3"
  }
 },
 "nbformat": 4,
 "nbformat_minor": 5
}
