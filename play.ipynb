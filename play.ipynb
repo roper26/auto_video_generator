{
 "cells": [
  {
   "cell_type": "code",
   "execution_count": 1,
   "id": "43df91cb-3611-44d1-ae80-f160d9e31bd6",
   "metadata": {
    "scrolled": true
   },
   "outputs": [
    {
     "name": "stdout",
     "output_type": "stream",
     "text": [
      "Python 3.12.3\n"
     ]
    }
   ],
   "source": [
    "!python -V"
   ]
  },
  {
   "cell_type": "code",
   "execution_count": 2,
   "id": "1eee616c-c519-47d6-94be-d732a86d36e2",
   "metadata": {},
   "outputs": [
    {
     "name": "stderr",
     "output_type": "stream",
     "text": [
      "\u001b[32m2024-05-12 22:55:32.436\u001b[0m | \u001b[1mINFO    \u001b[0m | \u001b[36mapp.config.config\u001b[0m:\u001b[36mload_config\u001b[0m:\u001b[36m22\u001b[0m - \u001b[1mload config from file: /Users/roper/work/auto_video_generator/config.toml\u001b[0m\n",
      "\u001b[32m2024-05-12 22:55:32.438\u001b[0m | \u001b[1mINFO    \u001b[0m | \u001b[36mapp.config.config\u001b[0m:\u001b[36m<module>\u001b[0m:\u001b[36m70\u001b[0m - \u001b[1mMoneyPrinterTurbo v1.1.5\u001b[0m\n",
      "/Users/roper/miniconda3/envs/auto-upload/lib/python3.12/site-packages/tqdm/auto.py:21: TqdmWarning: IProgress not found. Please update jupyter and ipywidgets. See https://ipywidgets.readthedocs.io/en/stable/user_install.html\n",
      "  from .autonotebook import tqdm as notebook_tqdm\n"
     ]
    }
   ],
   "source": [
    "import math\n",
    "import os.path\n",
    "import re\n",
    "import sys\n",
    "from os import path\n",
    "\n",
    "from loguru import logger\n",
    "\n",
    "from app.config import config\n",
    "from app.models import const\n",
    "from app.models.schema import VideoParams, VideoConcatMode\n",
    "from app.services import llm, material, voice, video, subtitle\n",
    "from app.services import state as sm\n",
    "from app.utils import utils"
   ]
  },
  {
   "cell_type": "code",
   "execution_count": 3,
   "id": "6a4941cd-45f6-4a0d-931f-d49409ad1b2c",
   "metadata": {},
   "outputs": [],
   "source": [
    "params_dict = {\n",
    "        \"video_subject\": \"怎么快速赚到100万\",\n",
    "        \"video_aspect\": \"9:16\",\n",
    "        \"voice_name\": \"zh-CN-XiaoxiaoNeural\",\n",
    "        \"enable_bgm\": False,\n",
    "        \"font_name\": \"STHeitiMedium 黑体-中\",\n",
    "        \"text_color\": \"#FFFFFF\",\n",
    "        \"font_size\": 60,\n",
    "        \"stroke_color\": \"#000000\",\n",
    "        \"stroke_width\": 1.5\n",
    "    }\n",
    "\n",
    "params = VideoParams(**params_dict)\n",
    "task_id = 'task_id_test_123'"
   ]
  },
  {
   "cell_type": "code",
   "execution_count": 4,
   "id": "128b3f69-364c-41b1-a14c-5d41705f19be",
   "metadata": {},
   "outputs": [
    {
     "data": {
      "text/plain": [
       "'怎么快速赚到100万'"
      ]
     },
     "execution_count": 4,
     "metadata": {},
     "output_type": "execute_result"
    }
   ],
   "source": [
    "params.video_subject\n"
   ]
  },
  {
   "cell_type": "code",
   "execution_count": 5,
   "id": "3fd1f944-aa2a-4fcd-9355-73cd6e5e579a",
   "metadata": {},
   "outputs": [
    {
     "data": {
      "text/plain": [
       "'gpt-3.5-turbo'"
      ]
     },
     "execution_count": 5,
     "metadata": {},
     "output_type": "execute_result"
    }
   ],
   "source": [
    "config.app.get(\"openai_model_name\", \"openai\")"
   ]
  },
  {
   "cell_type": "code",
   "execution_count": 6,
   "id": "23071007-d7f9-43da-b3a1-cd117b64287d",
   "metadata": {},
   "outputs": [
    {
     "name": "stdout",
     "output_type": "stream",
     "text": [
      "\u001b[32m2024-05-12 22:55:33\u001b[0m | \u001b[1mINFO\u001b[0m | \"./../../../../var/folders/20/h5ktr5ls0zgdjw1dtlxcrlpc0000gn/T/ipykernel_89494/2255889761.py:6\":\u001b[34m <module>\u001b[0m - \u001b[1m\n",
      "\n",
      "## generating video script\u001b[0m\n",
      "\u001b[32m2024-05-12 22:55:33\u001b[0m | \u001b[1mINFO\u001b[0m | \"./app/services/llm.py:215\":\u001b[34m generate_script\u001b[0m - \u001b[1msubject: 怎么快速赚到100万\u001b[0m\n",
      "\u001b[32m2024-05-12 22:55:33\u001b[0m | \u001b[1mINFO\u001b[0m | \"./app/services/llm.py:16\":\u001b[34m _generate_response\u001b[0m - \u001b[1mllm provider: openai\u001b[0m\n",
      "\u001b[32m2024-05-12 22:55:36\u001b[0m | \u001b[32m\u001b[1mSUCCESS\u001b[0m | \"./app/services/llm.py:248\":\u001b[34m generate_script\u001b[0m - \u001b[32m\u001b[1mcompleted: \n",
      "首先，要确立一个明确的目标，并制定可行的计划。其次，专注于提升自己的技能，不断学习和成长。同时，积极寻找机会，勇敢面对风险。最后，要善于把握时机，抓住每一个能赚钱的机会。愿你早日实现赚到100万的梦想！\u001b[0m\n"
     ]
    }
   ],
   "source": [
    "video_subject = params.video_subject\n",
    "voice_name = voice.parse_voice_name(params.voice_name)\n",
    "paragraph_number = params.paragraph_number\n",
    "n_threads = params.n_threads\n",
    "max_clip_duration = params.video_clip_duration\n",
    "logger.info(\"\\n\\n## generating video script\")\n",
    "video_script = params.video_script.strip()\n",
    "if not video_script:\n",
    "    video_script = llm.generate_script(video_subject=video_subject, language=params.video_language,\n",
    "                                       paragraph_number=paragraph_number)\n",
    "else:\n",
    "    logger.debug(f\"video script: \\n{video_script}\")\n",
    "sm.state.update_task(task_id, state=const.TASK_STATE_PROCESSING, progress=10)"
   ]
  },
  {
   "cell_type": "code",
   "execution_count": 7,
   "id": "6674bb31-67fe-467b-87e1-a56dcd9dacb7",
   "metadata": {},
   "outputs": [
    {
     "name": "stdout",
     "output_type": "stream",
     "text": [
      "\u001b[32m2024-05-12 22:55:36\u001b[0m | \u001b[1mINFO\u001b[0m | \"./../../../../var/folders/20/h5ktr5ls0zgdjw1dtlxcrlpc0000gn/T/ipykernel_89494/447892559.py:1\":\u001b[34m <module>\u001b[0m - \u001b[1m\n",
      "\n",
      "## generating video terms\u001b[0m\n",
      "\u001b[32m2024-05-12 22:55:36\u001b[0m | \u001b[1mINFO\u001b[0m | \"./app/services/llm.py:279\":\u001b[34m generate_terms\u001b[0m - \u001b[1msubject: 怎么快速赚到100万\u001b[0m\n",
      "\u001b[32m2024-05-12 22:55:36\u001b[0m | \u001b[1mINFO\u001b[0m | \"./app/services/llm.py:16\":\u001b[34m _generate_response\u001b[0m - \u001b[1mllm provider: openai\u001b[0m\n",
      "\u001b[32m2024-05-12 22:55:37\u001b[0m | \u001b[32m\u001b[1mSUCCESS\u001b[0m | \"./app/services/llm.py:300\":\u001b[34m generate_terms\u001b[0m - \u001b[32m\u001b[1mcompleted: \n",
      "['earn money fast', 'financial goals plan', 'skill development', 'opportunity seeking', 'money-making opportunities']\u001b[0m\n"
     ]
    }
   ],
   "source": [
    "logger.info(\"\\n\\n## generating video terms\")\n",
    "video_terms = params.video_terms\n",
    "if not video_terms:\n",
    "    video_terms = llm.generate_terms(video_subject=video_subject, video_script=video_script, amount=5)\n",
    "else:\n",
    "    if isinstance(video_terms, str):\n",
    "        video_terms = [term.strip() for term in re.split(r'[,，]', video_terms)]\n",
    "    elif isinstance(video_terms, list):\n",
    "        video_terms = [term.strip() for term in video_terms]\n",
    "    else:\n",
    "        raise ValueError(\"video_terms must be a string or a list of strings.\")\n",
    "    logger.debug(f\"video terms: {utils.to_json(video_terms)}\")\n",
    "script_file = path.join(utils.task_dir(task_id), f\"script.json\")\n",
    "script_data = {\n",
    "    \"script\": video_script,\n",
    "    \"search_terms\": video_terms,\n",
    "    \"params\": params,\n",
    "}\n",
    "with open(script_file, \"w\", encoding=\"utf-8\") as f:\n",
    "    f.write(utils.to_json(script_data))\n",
    "sm.state.update_task(task_id, state=const.TASK_STATE_PROCESSING, progress=20)"
   ]
  },
  {
   "cell_type": "code",
   "execution_count": 8,
   "id": "610b5f29-4ce4-4676-ac0f-01195c068c56",
   "metadata": {},
   "outputs": [],
   "source": [
    "import asyncio\n",
    "import os\n",
    "import re\n",
    "from datetime import datetime\n",
    "from xml.sax.saxutils import unescape\n",
    "from edge_tts.submaker import mktimestamp\n",
    "from loguru import logger\n",
    "from edge_tts import submaker, SubMaker\n",
    "import edge_tts\n",
    "from moviepy.video.tools import subtitles\n",
    "\n",
    "from app.config import config\n",
    "from app.utils import utils\n",
    "import nest_asyncio\n",
    "\n",
    "nest_asyncio.apply()\n",
    "def azure_tts_v1(text: str, voice_name: str, voice_file: str) -> [SubMaker, None]:\n",
    "    text = text.strip()\n",
    "    for i in range(3):\n",
    "        # try:\n",
    "            logger.info(f\"start, voice name: {voice_name}, try: {i + 1}\")\n",
    "\n",
    "            async def _do() -> SubMaker:\n",
    "                communicate = edge_tts.Communicate(text, voice_name)\n",
    "                sub_maker = edge_tts.SubMaker()\n",
    "                with open(voice_file, \"wb\") as file:\n",
    "                    async for chunk in communicate.stream():\n",
    "                        if chunk[\"type\"] == \"audio\":\n",
    "                            file.write(chunk[\"data\"])\n",
    "                        elif chunk[\"type\"] == \"WordBoundary\":\n",
    "                            sub_maker.create_sub((chunk[\"offset\"], chunk[\"duration\"]), chunk[\"text\"])\n",
    "                return sub_maker\n",
    "\n",
    "            # sub_maker = asyncio.get_event_loop().run_until_complete(_do())\n",
    "            sub_maker = asyncio.run(_do())\n",
    "            if not sub_maker or not sub_maker.subs:\n",
    "                logger.warning(f\"failed, sub_maker is None or sub_maker.subs is None\")\n",
    "                continue\n",
    "\n",
    "            logger.info(f\"completed, output file: {voice_file}\")\n",
    "            return sub_maker\n",
    "        # except Exception as e:\n",
    "        #     logger.error(f\"failed, error: {str(e)}\")\n",
    "    return None"
   ]
  },
  {
   "cell_type": "code",
   "execution_count": 9,
   "id": "e07d1e8c-77d4-4d0e-9a66-2b43b88355d1",
   "metadata": {},
   "outputs": [
    {
     "name": "stdout",
     "output_type": "stream",
     "text": [
      "\u001b[32m2024-05-12 22:55:37\u001b[0m | \u001b[1mINFO\u001b[0m | \"./../../../../var/folders/20/h5ktr5ls0zgdjw1dtlxcrlpc0000gn/T/ipykernel_89494/3954587724.py:21\":\u001b[34m azure_tts_v1\u001b[0m - \u001b[1mstart, voice name: zh-CN-XiaoxiaoNeural, try: 1\u001b[0m\n",
      "\u001b[32m2024-05-12 22:55:40\u001b[0m | \u001b[1mINFO\u001b[0m | \"./../../../../var/folders/20/h5ktr5ls0zgdjw1dtlxcrlpc0000gn/T/ipykernel_89494/3954587724.py:40\":\u001b[34m azure_tts_v1\u001b[0m - \u001b[1mcompleted, output file: /Users/roper/work/auto_video_generator/storage/tasks/task_id_test_123/audio.mp3\u001b[0m\n"
     ]
    }
   ],
   "source": [
    "\n",
    "audio_file = path.join(utils.task_dir(task_id), f\"audio.mp3\")\n",
    "sub_maker = azure_tts_v1(text=video_script, voice_name=voice_name, voice_file=audio_file)\n",
    "if sub_maker is None:\n",
    "    sm.state.update_task(task_id, state=const.TASK_STATE_FAILED)\n",
    "    logger.error(\n",
    "        \"\"\"failed to generate audio:\n",
    "1. check if the language of the voice matches the language of the video script.\n",
    "2. check if the network is available. If you are in China, it is recommended to use a VPN and enable the global traffic mode.\n",
    "    \"\"\".strip()\n",
    "    )\n",
    "    \n",
    "audio_duration = voice.get_audio_duration(sub_maker)\n",
    "audio_duration = math.ceil(audio_duration)\n",
    "sm.state.update_task(task_id, state=const.TASK_STATE_PROCESSING, progress=30)"
   ]
  },
  {
   "cell_type": "code",
   "execution_count": null,
   "id": "d5449b91-3ada-4f53-b567-817b006bde03",
   "metadata": {},
   "outputs": [],
   "source": []
  },
  {
   "cell_type": "code",
   "execution_count": 10,
   "id": "feaf319b-de2a-4400-a63d-c5e543a617b4",
   "metadata": {},
   "outputs": [
    {
     "name": "stdout",
     "output_type": "stream",
     "text": [
      "\u001b[32m2024-05-12 22:55:40\u001b[0m | \u001b[1mINFO\u001b[0m | \"./../../../../var/folders/20/h5ktr5ls0zgdjw1dtlxcrlpc0000gn/T/ipykernel_89494/1007295417.py:5\":\u001b[34m <module>\u001b[0m - \u001b[1m\n",
      "\n",
      "## generating subtitle, provider: whisper\u001b[0m\n",
      "\u001b[32m2024-05-12 22:55:40\u001b[0m | \u001b[1mINFO\u001b[0m | \"./app/services/subtitle.py:26\":\u001b[34m create\u001b[0m - \u001b[1mloading model: base, device: CPU, compute_type: int8\u001b[0m\n",
      "\u001b[32m2024-05-12 22:55:42\u001b[0m | \u001b[1mINFO\u001b[0m | \"./app/services/subtitle.py:40\":\u001b[34m create\u001b[0m - \u001b[1mstart, output file: /Users/roper/work/auto_video_generator/storage/tasks/task_id_test_123/subtitle.srt\u001b[0m\n"
     ]
    },
    {
     "name": "stderr",
     "output_type": "stream",
     "text": [
      "Estimating duration from bitrate, this may be inaccurate\n"
     ]
    },
    {
     "name": "stdout",
     "output_type": "stream",
     "text": [
      "\u001b[32m2024-05-12 22:55:42\u001b[0m | \u001b[1mINFO\u001b[0m | \"./app/services/subtitle.py:52\":\u001b[34m create\u001b[0m - \u001b[1mdetected language: 'zh', probability: 1.00\u001b[0m\n",
      "\u001b[32m2024-05-12 22:55:43\u001b[0m | \u001b[34m\u001b[1mDEBUG\u001b[0m | \"./app/services/subtitle.py:63\":\u001b[34m recognized\u001b[0m - \u001b[34m\u001b[1m[0.00s -> 0.58s] 首先\u001b[0m\n",
      "\u001b[32m2024-05-12 22:55:43\u001b[0m | \u001b[34m\u001b[1mDEBUG\u001b[0m | \"./app/services/subtitle.py:63\":\u001b[34m recognized\u001b[0m - \u001b[34m\u001b[1m[0.90s -> 2.60s] 要確立一個明確的目標\u001b[0m\n",
      "\u001b[32m2024-05-12 22:55:43\u001b[0m | \u001b[34m\u001b[1mDEBUG\u001b[0m | \"./app/services/subtitle.py:63\":\u001b[34m recognized\u001b[0m - \u001b[34m\u001b[1m[2.94s -> 4.42s] 並制定可行的計畫\u001b[0m\n",
      "\u001b[32m2024-05-12 22:55:43\u001b[0m | \u001b[34m\u001b[1mDEBUG\u001b[0m | \"./app/services/subtitle.py:63\":\u001b[34m recognized\u001b[0m - \u001b[34m\u001b[1m[4.98s -> 5.52s] 其次\u001b[0m\n",
      "\u001b[32m2024-05-12 22:55:43\u001b[0m | \u001b[34m\u001b[1mDEBUG\u001b[0m | \"./app/services/subtitle.py:63\":\u001b[34m recognized\u001b[0m - \u001b[34m\u001b[1m[5.86s -> 7.88s] 專注於提升自己的技能\u001b[0m\n",
      "\u001b[32m2024-05-12 22:55:43\u001b[0m | \u001b[34m\u001b[1mDEBUG\u001b[0m | \"./app/services/subtitle.py:63\":\u001b[34m recognized\u001b[0m - \u001b[34m\u001b[1m[8.24s -> 9.50s] 不斷學習和成長\u001b[0m\n",
      "\u001b[32m2024-05-12 22:55:43\u001b[0m | \u001b[34m\u001b[1mDEBUG\u001b[0m | \"./app/services/subtitle.py:63\":\u001b[34m recognized\u001b[0m - \u001b[34m\u001b[1m[10.06s -> 10.68s] 同時\u001b[0m\n",
      "\u001b[32m2024-05-12 22:55:43\u001b[0m | \u001b[34m\u001b[1mDEBUG\u001b[0m | \"./app/services/subtitle.py:63\":\u001b[34m recognized\u001b[0m - \u001b[34m\u001b[1m[11.10s -> 12.14s] 積極尋找機會\u001b[0m\n",
      "\u001b[32m2024-05-12 22:55:43\u001b[0m | \u001b[34m\u001b[1mDEBUG\u001b[0m | \"./app/services/subtitle.py:63\":\u001b[34m recognized\u001b[0m - \u001b[34m\u001b[1m[12.60s -> 13.66s] 勇敢面對風險\u001b[0m\n",
      "\u001b[32m2024-05-12 22:55:43\u001b[0m | \u001b[34m\u001b[1mDEBUG\u001b[0m | \"./app/services/subtitle.py:63\":\u001b[34m recognized\u001b[0m - \u001b[34m\u001b[1m[14.32s -> 14.72s] 最後\u001b[0m\n",
      "\u001b[32m2024-05-12 22:55:43\u001b[0m | \u001b[34m\u001b[1mDEBUG\u001b[0m | \"./app/services/subtitle.py:63\":\u001b[34m recognized\u001b[0m - \u001b[34m\u001b[1m[15.06s -> 16.34s] 要善於把握時機\u001b[0m\n",
      "\u001b[32m2024-05-12 22:55:43\u001b[0m | \u001b[34m\u001b[1mDEBUG\u001b[0m | \"./app/services/subtitle.py:63\":\u001b[34m recognized\u001b[0m - \u001b[34m\u001b[1m[16.70s -> 18.36s] 抓住每一個能賺錢的機會\u001b[0m\n",
      "\u001b[32m2024-05-12 22:55:43\u001b[0m | \u001b[34m\u001b[1mDEBUG\u001b[0m | \"./app/services/subtitle.py:63\":\u001b[34m recognized\u001b[0m - \u001b[34m\u001b[1m[19.04s -> 20.18s] 願你早日實現\u001b[0m\n",
      "\u001b[32m2024-05-12 22:55:43\u001b[0m | \u001b[34m\u001b[1mDEBUG\u001b[0m | \"./app/services/subtitle.py:63\":\u001b[34m recognized\u001b[0m - \u001b[34m\u001b[1m[20.40s -> 21.68s] 賺到100萬的夢想\u001b[0m\n",
      "\u001b[32m2024-05-12 22:55:43\u001b[0m | \u001b[1mINFO\u001b[0m | \"./app/services/subtitle.py:115\":\u001b[34m create\u001b[0m - \u001b[1mcomplete, elapsed: 1.13 s\u001b[0m\n",
      "\u001b[32m2024-05-12 22:55:43\u001b[0m | \u001b[1mINFO\u001b[0m | \"./app/services/subtitle.py:128\":\u001b[34m create\u001b[0m - \u001b[1msubtitle file created: /Users/roper/work/auto_video_generator/storage/tasks/task_id_test_123/subtitle.srt\u001b[0m\n",
      "\u001b[32m2024-05-12 22:55:43\u001b[0m | \u001b[1mINFO\u001b[0m | \"./../../../../var/folders/20/h5ktr5ls0zgdjw1dtlxcrlpc0000gn/T/ipykernel_89494/1007295417.py:14\":\u001b[34m <module>\u001b[0m - \u001b[1m\n",
      "\n",
      "## correcting subtitle\u001b[0m\n",
      "\u001b[32m2024-05-12 22:55:43\u001b[0m | \u001b[32m\u001b[1mSUCCESS\u001b[0m | \"./app/services/subtitle.py:173\":\u001b[34m correct\u001b[0m - \u001b[32m\u001b[1msubtitle is correct\u001b[0m\n"
     ]
    }
   ],
   "source": [
    "subtitle_path = \"\"\n",
    "if params.subtitle_enabled:\n",
    "    subtitle_path = path.join(utils.task_dir(task_id), f\"subtitle.srt\")\n",
    "    subtitle_provider = 'whisper' # config.app.get(\"subtitle_provider\", \"\").strip().lower()\n",
    "    logger.info(f\"\\n\\n## generating subtitle, provider: {subtitle_provider}\")\n",
    "    subtitle_fallback = False\n",
    "    if subtitle_provider == \"edge\":\n",
    "        voice.create_subtitle(text=video_script, sub_maker=sub_maker, subtitle_file=subtitle_path)\n",
    "        if not os.path.exists(subtitle_path):\n",
    "            subtitle_fallback = True\n",
    "            logger.warning(\"subtitle file not found, fallback to whisper\")\n",
    "    if subtitle_provider == \"whisper\" or subtitle_fallback:\n",
    "        subtitle.create(audio_file=audio_file, subtitle_file=subtitle_path)\n",
    "        logger.info(\"\\n\\n## correcting subtitle\")\n",
    "        subtitle.correct(subtitle_file=subtitle_path, video_script=video_script)\n",
    "    subtitle_lines = subtitle.file_to_subtitles(subtitle_path)\n",
    "    if not subtitle_lines:\n",
    "        logger.warning(f\"subtitle file is invalid: {subtitle_path}\")\n",
    "        subtitle_path = \"\""
   ]
  },
  {
   "cell_type": "code",
   "execution_count": null,
   "id": "d0505950-4539-4a21-abd3-a6c899aa5aca",
   "metadata": {},
   "outputs": [],
   "source": []
  },
  {
   "cell_type": "code",
   "execution_count": 11,
   "id": "efefdddf-89f3-4802-83a1-2cfd5ddfb827",
   "metadata": {},
   "outputs": [],
   "source": [
    "import pysrt"
   ]
  },
  {
   "cell_type": "code",
   "execution_count": 12,
   "id": "17753582-adb9-46d8-9408-a5da1de1c00b",
   "metadata": {},
   "outputs": [
    {
     "data": {
      "text/plain": [
       "'/Users/roper/work/auto_video_generator/storage/tasks/task_id_test_123/subtitle.srt'"
      ]
     },
     "execution_count": 12,
     "metadata": {},
     "output_type": "execute_result"
    }
   ],
   "source": [
    "subtitle_path"
   ]
  },
  {
   "cell_type": "code",
   "execution_count": 13,
   "id": "48f57a4c-b010-45da-bea4-8b01799b3598",
   "metadata": {},
   "outputs": [],
   "source": [
    "subs = pysrt.open(subtitle_path)"
   ]
  },
  {
   "cell_type": "code",
   "execution_count": 14,
   "id": "402a90b5-2b86-4b8b-a62a-5f1177ce84e7",
   "metadata": {},
   "outputs": [
    {
     "data": {
      "text/plain": [
       "14"
      ]
     },
     "execution_count": 14,
     "metadata": {},
     "output_type": "execute_result"
    }
   ],
   "source": [
    "len(subs)"
   ]
  },
  {
   "cell_type": "code",
   "execution_count": 15,
   "id": "2038fa23-b19b-4edc-8e68-b4288e8b41ff",
   "metadata": {},
   "outputs": [
    {
     "data": {
      "text/plain": [
       "['ITEM_PATTERN',\n",
       " 'TIMESTAMP_SEPARATOR',\n",
       " '__class__',\n",
       " '__delattr__',\n",
       " '__dict__',\n",
       " '__dir__',\n",
       " '__doc__',\n",
       " '__eq__',\n",
       " '__format__',\n",
       " '__ge__',\n",
       " '__getattribute__',\n",
       " '__getstate__',\n",
       " '__gt__',\n",
       " '__hash__',\n",
       " '__init__',\n",
       " '__init_subclass__',\n",
       " '__le__',\n",
       " '__lt__',\n",
       " '__module__',\n",
       " '__ne__',\n",
       " '__new__',\n",
       " '__reduce__',\n",
       " '__reduce_ex__',\n",
       " '__repr__',\n",
       " '__setattr__',\n",
       " '__sizeof__',\n",
       " '__str__',\n",
       " '__subclasshook__',\n",
       " '__weakref__',\n",
       " '_cmpkey',\n",
       " '_compare',\n",
       " 'characters_per_second',\n",
       " 'duration',\n",
       " 'end',\n",
       " 'from_lines',\n",
       " 'from_string',\n",
       " 'index',\n",
       " 'position',\n",
       " 'shift',\n",
       " 'split_timestamps',\n",
       " 'start',\n",
       " 'text',\n",
       " 'text_without_tags']"
      ]
     },
     "execution_count": 15,
     "metadata": {},
     "output_type": "execute_result"
    }
   ],
   "source": [
    "dir(subs[0])"
   ]
  },
  {
   "cell_type": "code",
   "execution_count": 16,
   "id": "9aa591fa-4fcf-4805-9d9d-5ff343f10879",
   "metadata": {},
   "outputs": [
    {
     "data": {
      "text/plain": [
       "'首先'"
      ]
     },
     "execution_count": 16,
     "metadata": {},
     "output_type": "execute_result"
    }
   ],
   "source": [
    "subs[0].text"
   ]
  },
  {
   "cell_type": "code",
   "execution_count": 17,
   "id": "70f43228-6a89-453a-bc86-031b5ee255d1",
   "metadata": {},
   "outputs": [
    {
     "data": {
      "text/plain": [
       "1"
      ]
     },
     "execution_count": 17,
     "metadata": {},
     "output_type": "execute_result"
    }
   ],
   "source": [
    "subs[2].duration.seconds"
   ]
  },
  {
   "cell_type": "code",
   "execution_count": 18,
   "id": "c974d21d-f773-4dfb-b582-8ca0cb7ab73d",
   "metadata": {},
   "outputs": [],
   "source": [
    "import logging\n",
    "import re\n",
    "import json\n",
    "from typing import List\n",
    "from loguru import logger\n",
    "from openai import OpenAI\n",
    "from openai import AzureOpenAI\n",
    "from openai.types.chat import ChatCompletion\n",
    "\n",
    "from app.config import config"
   ]
  },
  {
   "cell_type": "code",
   "execution_count": 19,
   "id": "400d0753-9a1d-4deb-88b7-a452fd9fdc5a",
   "metadata": {},
   "outputs": [],
   "source": [
    "\n",
    "def generate_picture_term(video_subject: str, subtitle_str: str, amount: int = 5) -> List[str]:\n",
    "    prompt = f\"\"\"\n",
    "# Role: Picture Search Term Generator\n",
    "\n",
    "## Goals:\n",
    "Generate one search term for stock picture, depending on the subject of a video, and one subtite sentence.\n",
    "\n",
    "## Constrains:\n",
    "1. the search term are to be returned as a string.\n",
    "2. search term should consist of 1-3 words, should relate to the subtitle and subtitle str.\n",
    "3. you must only return one search term. you must not return anything else. you must not return the script.\n",
    "4. the search term must be related to the subject of the video.\n",
    "5. reply with english search terms only.\n",
    "\n",
    "## Output Example:\n",
    "\"search term 1\"\n",
    "\n",
    "## Context:\n",
    "### Video Subject\n",
    "{video_subject}\n",
    "\n",
    "### subtitle_str\n",
    "{subtitle_str}\n",
    "\n",
    "Please note that you must use English for generating video search terms; Chinese is not accepted.\n",
    "\"\"\".strip()\n",
    "\n",
    "    logger.info(f\"subject: {video_subject}, subtitle_str:{subtitle_str}\")\n",
    "    # logger.debug(f\"prompt: \\n{prompt}\")\n",
    "    response = llm._generate_response(prompt)\n",
    "    search_term = \"\"\n",
    "\n",
    "    try:\n",
    "        search_term = response\n",
    "        print(search_term)\n",
    "        if not isinstance(search_term, str) :\n",
    "            raise ValueError(\"response is not a list of strings.\")\n",
    "\n",
    "    except (json.JSONDecodeError, ValueError):\n",
    "        # logger.warning(f\"gpt returned an unformatted response. attempting to clean...\")\n",
    "        # Attempt to extract list-like string and convert to list\n",
    "        return video_subject\n",
    "\n",
    "    logger.success(f'completed: \\n{search_term}')\n",
    "    return search_term"
   ]
  },
  {
   "cell_type": "code",
   "execution_count": 20,
   "id": "fbe8ba14-5ff6-4342-bd7f-c2861191e8e0",
   "metadata": {},
   "outputs": [
    {
     "name": "stdout",
     "output_type": "stream",
     "text": [
      "\u001b[32m2024-05-12 22:55:43\u001b[0m | \u001b[1mINFO\u001b[0m | \"./../../../../var/folders/20/h5ktr5ls0zgdjw1dtlxcrlpc0000gn/T/ipykernel_89494/2965486547.py:28\":\u001b[34m generate_picture_term\u001b[0m - \u001b[1msubject: 怎么快速赚到100万, subtitle_str:一打造穩定的現金流是賺取100萬的關鍵\u001b[0m\n",
      "\u001b[32m2024-05-12 22:55:43\u001b[0m | \u001b[1mINFO\u001b[0m | \"./app/services/llm.py:16\":\u001b[34m _generate_response\u001b[0m - \u001b[1mllm provider: openai\u001b[0m\n",
      "\"cash flow\"\n",
      "\u001b[32m2024-05-12 22:55:44\u001b[0m | \u001b[32m\u001b[1mSUCCESS\u001b[0m | \"./../../../../var/folders/20/h5ktr5ls0zgdjw1dtlxcrlpc0000gn/T/ipykernel_89494/2965486547.py:44\":\u001b[34m generate_picture_term\u001b[0m - \u001b[32m\u001b[1mcompleted: \n",
      "\"cash flow\"\u001b[0m\n"
     ]
    },
    {
     "data": {
      "text/plain": [
       "'\"cash flow\"'"
      ]
     },
     "execution_count": 20,
     "metadata": {},
     "output_type": "execute_result"
    }
   ],
   "source": [
    "generate_picture_term(video_subject,  \"一打造穩定的現金流是賺取100萬的關鍵\")"
   ]
  },
  {
   "cell_type": "code",
   "execution_count": 21,
   "id": "cb6f3ee6",
   "metadata": {},
   "outputs": [],
   "source": [
    "import os\n",
    "import random\n",
    "from urllib.parse import urlencode\n",
    "\n",
    "import requests\n",
    "from typing import List\n",
    "from loguru import logger\n",
    "from moviepy.video.io.VideoFileClip import VideoFileClip\n",
    "\n",
    "from app.config import config\n",
    "from app.models.schema import VideoAspect, VideoConcatMode, MaterialInfo\n",
    "from app.utils import utils"
   ]
  },
  {
   "cell_type": "code",
   "execution_count": 22,
   "id": "250ea18c",
   "metadata": {},
   "outputs": [],
   "source": [
    "import random\n",
    "def search_picture(search_term: str):\n",
    "    # search_term = \"financial stability\"\n",
    "    aspect = VideoAspect(params.video_aspect)\n",
    "    video_orientation = aspect.name\n",
    "    video_width, video_height = aspect.to_resolution()\n",
    "    headers = {\n",
    "        \"Authorization\": material.round_robin_api_key()\n",
    "    }\n",
    "    proxies = config.pexels.get(\"proxies\", None)\n",
    "    # Build URL\n",
    "    url_params = {\n",
    "        \"query\": search_term,\n",
    "        \"per_page\": 20,\n",
    "        \"orientation\": video_orientation\n",
    "    }\n",
    "    query_url = f\"https://api.pexels.com/v1/search?{urlencode(url_params)}\"\n",
    "    logger.info(f\"searching videos: {query_url}, with proxies: {proxies}\")\n",
    "    try:\n",
    "        r = requests.get(query_url, headers=headers, proxies=proxies, verify=False, timeout=(30, 60))\n",
    "        response = r.json()\n",
    "        photos = response.get(\"photos\", [])\n",
    "        # photos = [photo[\"url\"]for photo in photos if photo.get(\"url\", None)]\n",
    "        photos = [photo[\"src\"][\"original\"] for photo in photos if photo.get(\"src\", None)]\n",
    "        if len(photos) > 0:\n",
    "            return random.choice(photos)\n",
    "        return None\n",
    "    except Exception as e:\n",
    "        logger.error(f\"failed to search videos: {str(e)}\")\n",
    "    \n",
    "    return None"
   ]
  },
  {
   "cell_type": "code",
   "execution_count": 23,
   "id": "cc438231",
   "metadata": {},
   "outputs": [
    {
     "name": "stdout",
     "output_type": "stream",
     "text": [
      "\u001b[32m2024-05-12 22:55:44\u001b[0m | \u001b[1mINFO\u001b[0m | \"./../../../../var/folders/20/h5ktr5ls0zgdjw1dtlxcrlpc0000gn/T/ipykernel_89494/1684953646.py:18\":\u001b[34m search_picture\u001b[0m - \u001b[1msearching videos: https://api.pexels.com/v1/search?query=financial+stability&per_page=20&orientation=portrait, with proxies: {}\u001b[0m\n",
      "https://images.pexels.com/photos/4386158/pexels-photo-4386158.jpeg\n"
     ]
    }
   ],
   "source": [
    "picture_url = search_picture('financial stability')\n",
    "print(picture_url)"
   ]
  },
  {
   "cell_type": "code",
   "execution_count": 24,
   "id": "02a5b98a-c191-4aa2-be37-5aeb82cea7a4",
   "metadata": {},
   "outputs": [],
   "source": [
    "def get_picture_for_subtitle(video_subject, subtitle_path):\n",
    "    subs = pysrt.open(subtitle_path)\n",
    "    picture_urls = []\n",
    "    for sub in subs:\n",
    "        subtitle_str = sub.text\n",
    "        search_term = generate_picture_term(video_subject, subtitle_str)\n",
    "        pic = search_picture(search_term)\n",
    "        picture_urls.append(pic)\n",
    "        logger.info(f'len pics:{len(picture_urls)}, pic:{pic}')\n",
    "    return picture_urls"
   ]
  },
  {
   "cell_type": "code",
   "execution_count": 25,
   "id": "cf696a9d",
   "metadata": {},
   "outputs": [
    {
     "name": "stdout",
     "output_type": "stream",
     "text": [
      "\u001b[32m2024-05-12 22:55:45\u001b[0m | \u001b[1mINFO\u001b[0m | \"./../../../../var/folders/20/h5ktr5ls0zgdjw1dtlxcrlpc0000gn/T/ipykernel_89494/2965486547.py:28\":\u001b[34m generate_picture_term\u001b[0m - \u001b[1msubject: 怎么快速赚到100万, subtitle_str:首先\u001b[0m\n",
      "\u001b[32m2024-05-12 22:55:45\u001b[0m | \u001b[1mINFO\u001b[0m | \"./app/services/llm.py:16\":\u001b[34m _generate_response\u001b[0m - \u001b[1mllm provider: openai\u001b[0m\n",
      "\"money making\"\n",
      "\u001b[32m2024-05-12 22:56:07\u001b[0m | \u001b[32m\u001b[1mSUCCESS\u001b[0m | \"./../../../../var/folders/20/h5ktr5ls0zgdjw1dtlxcrlpc0000gn/T/ipykernel_89494/2965486547.py:44\":\u001b[34m generate_picture_term\u001b[0m - \u001b[32m\u001b[1mcompleted: \n",
      "\"money making\"\u001b[0m\n",
      "\u001b[32m2024-05-12 22:56:07\u001b[0m | \u001b[1mINFO\u001b[0m | \"./../../../../var/folders/20/h5ktr5ls0zgdjw1dtlxcrlpc0000gn/T/ipykernel_89494/1684953646.py:18\":\u001b[34m search_picture\u001b[0m - \u001b[1msearching videos: https://api.pexels.com/v1/search?query=%22money+making%22&per_page=20&orientation=portrait, with proxies: {}\u001b[0m\n",
      "\u001b[32m2024-05-12 22:56:08\u001b[0m | \u001b[1mINFO\u001b[0m | \"./../../../../var/folders/20/h5ktr5ls0zgdjw1dtlxcrlpc0000gn/T/ipykernel_89494/1145771832.py:9\":\u001b[34m get_picture_for_subtitle\u001b[0m - \u001b[1mlen pics:1, pic:https://images.pexels.com/photos/2678301/pexels-photo-2678301.jpeg\u001b[0m\n",
      "\u001b[32m2024-05-12 22:56:08\u001b[0m | \u001b[1mINFO\u001b[0m | \"./../../../../var/folders/20/h5ktr5ls0zgdjw1dtlxcrlpc0000gn/T/ipykernel_89494/2965486547.py:28\":\u001b[34m generate_picture_term\u001b[0m - \u001b[1msubject: 怎么快速赚到100万, subtitle_str:要確立一個明確的目標\u001b[0m\n",
      "\u001b[32m2024-05-12 22:56:08\u001b[0m | \u001b[1mINFO\u001b[0m | \"./app/services/llm.py:16\":\u001b[34m _generate_response\u001b[0m - \u001b[1mllm provider: openai\u001b[0m\n",
      "\"goal setting\"\n",
      "\u001b[32m2024-05-12 22:56:31\u001b[0m | \u001b[32m\u001b[1mSUCCESS\u001b[0m | \"./../../../../var/folders/20/h5ktr5ls0zgdjw1dtlxcrlpc0000gn/T/ipykernel_89494/2965486547.py:44\":\u001b[34m generate_picture_term\u001b[0m - \u001b[32m\u001b[1mcompleted: \n",
      "\"goal setting\"\u001b[0m\n",
      "\u001b[32m2024-05-12 22:56:31\u001b[0m | \u001b[1mINFO\u001b[0m | \"./../../../../var/folders/20/h5ktr5ls0zgdjw1dtlxcrlpc0000gn/T/ipykernel_89494/1684953646.py:18\":\u001b[34m search_picture\u001b[0m - \u001b[1msearching videos: https://api.pexels.com/v1/search?query=%22goal+setting%22&per_page=20&orientation=portrait, with proxies: {}\u001b[0m\n",
      "\u001b[32m2024-05-12 22:56:33\u001b[0m | \u001b[1mINFO\u001b[0m | \"./../../../../var/folders/20/h5ktr5ls0zgdjw1dtlxcrlpc0000gn/T/ipykernel_89494/1145771832.py:9\":\u001b[34m get_picture_for_subtitle\u001b[0m - \u001b[1mlen pics:2, pic:https://images.pexels.com/photos/5080674/pexels-photo-5080674.jpeg\u001b[0m\n",
      "\u001b[32m2024-05-12 22:56:33\u001b[0m | \u001b[1mINFO\u001b[0m | \"./../../../../var/folders/20/h5ktr5ls0zgdjw1dtlxcrlpc0000gn/T/ipykernel_89494/2965486547.py:28\":\u001b[34m generate_picture_term\u001b[0m - \u001b[1msubject: 怎么快速赚到100万, subtitle_str:並制定可行的計畫\u001b[0m\n",
      "\u001b[32m2024-05-12 22:56:33\u001b[0m | \u001b[1mINFO\u001b[0m | \"./app/services/llm.py:16\":\u001b[34m _generate_response\u001b[0m - \u001b[1mllm provider: openai\u001b[0m\n",
      "\"financial plan\"\n",
      "\u001b[32m2024-05-12 22:56:54\u001b[0m | \u001b[32m\u001b[1mSUCCESS\u001b[0m | \"./../../../../var/folders/20/h5ktr5ls0zgdjw1dtlxcrlpc0000gn/T/ipykernel_89494/2965486547.py:44\":\u001b[34m generate_picture_term\u001b[0m - \u001b[32m\u001b[1mcompleted: \n",
      "\"financial plan\"\u001b[0m\n",
      "\u001b[32m2024-05-12 22:56:54\u001b[0m | \u001b[1mINFO\u001b[0m | \"./../../../../var/folders/20/h5ktr5ls0zgdjw1dtlxcrlpc0000gn/T/ipykernel_89494/1684953646.py:18\":\u001b[34m search_picture\u001b[0m - \u001b[1msearching videos: https://api.pexels.com/v1/search?query=%22financial+plan%22&per_page=20&orientation=portrait, with proxies: {}\u001b[0m\n",
      "\u001b[32m2024-05-12 22:56:55\u001b[0m | \u001b[1mINFO\u001b[0m | \"./../../../../var/folders/20/h5ktr5ls0zgdjw1dtlxcrlpc0000gn/T/ipykernel_89494/1145771832.py:9\":\u001b[34m get_picture_for_subtitle\u001b[0m - \u001b[1mlen pics:3, pic:https://images.pexels.com/photos/5324968/pexels-photo-5324968.jpeg\u001b[0m\n",
      "\u001b[32m2024-05-12 22:56:55\u001b[0m | \u001b[1mINFO\u001b[0m | \"./../../../../var/folders/20/h5ktr5ls0zgdjw1dtlxcrlpc0000gn/T/ipykernel_89494/2965486547.py:28\":\u001b[34m generate_picture_term\u001b[0m - \u001b[1msubject: 怎么快速赚到100万, subtitle_str:其次\u001b[0m\n",
      "\u001b[32m2024-05-12 22:56:55\u001b[0m | \u001b[1mINFO\u001b[0m | \"./app/services/llm.py:16\":\u001b[34m _generate_response\u001b[0m - \u001b[1mllm provider: openai\u001b[0m\n",
      "\"financial success\"\n",
      "\u001b[32m2024-05-12 22:56:56\u001b[0m | \u001b[32m\u001b[1mSUCCESS\u001b[0m | \"./../../../../var/folders/20/h5ktr5ls0zgdjw1dtlxcrlpc0000gn/T/ipykernel_89494/2965486547.py:44\":\u001b[34m generate_picture_term\u001b[0m - \u001b[32m\u001b[1mcompleted: \n",
      "\"financial success\"\u001b[0m\n",
      "\u001b[32m2024-05-12 22:56:56\u001b[0m | \u001b[1mINFO\u001b[0m | \"./../../../../var/folders/20/h5ktr5ls0zgdjw1dtlxcrlpc0000gn/T/ipykernel_89494/1684953646.py:18\":\u001b[34m search_picture\u001b[0m - \u001b[1msearching videos: https://api.pexels.com/v1/search?query=%22financial+success%22&per_page=20&orientation=portrait, with proxies: {}\u001b[0m\n",
      "\u001b[32m2024-05-12 22:56:58\u001b[0m | \u001b[1mINFO\u001b[0m | \"./../../../../var/folders/20/h5ktr5ls0zgdjw1dtlxcrlpc0000gn/T/ipykernel_89494/1145771832.py:9\":\u001b[34m get_picture_for_subtitle\u001b[0m - \u001b[1mlen pics:4, pic:https://images.pexels.com/photos/7173021/pexels-photo-7173021.jpeg\u001b[0m\n",
      "\u001b[32m2024-05-12 22:56:58\u001b[0m | \u001b[1mINFO\u001b[0m | \"./../../../../var/folders/20/h5ktr5ls0zgdjw1dtlxcrlpc0000gn/T/ipykernel_89494/2965486547.py:28\":\u001b[34m generate_picture_term\u001b[0m - \u001b[1msubject: 怎么快速赚到100万, subtitle_str:專注於提升自己的技能\u001b[0m\n",
      "\u001b[32m2024-05-12 22:56:58\u001b[0m | \u001b[1mINFO\u001b[0m | \"./app/services/llm.py:16\":\u001b[34m _generate_response\u001b[0m - \u001b[1mllm provider: openai\u001b[0m\n",
      "\"skill improvement\"\n",
      "\u001b[32m2024-05-12 22:57:21\u001b[0m | \u001b[32m\u001b[1mSUCCESS\u001b[0m | \"./../../../../var/folders/20/h5ktr5ls0zgdjw1dtlxcrlpc0000gn/T/ipykernel_89494/2965486547.py:44\":\u001b[34m generate_picture_term\u001b[0m - \u001b[32m\u001b[1mcompleted: \n",
      "\"skill improvement\"\u001b[0m\n",
      "\u001b[32m2024-05-12 22:57:21\u001b[0m | \u001b[1mINFO\u001b[0m | \"./../../../../var/folders/20/h5ktr5ls0zgdjw1dtlxcrlpc0000gn/T/ipykernel_89494/1684953646.py:18\":\u001b[34m search_picture\u001b[0m - \u001b[1msearching videos: https://api.pexels.com/v1/search?query=%22skill+improvement%22&per_page=20&orientation=portrait, with proxies: {}\u001b[0m\n",
      "\u001b[32m2024-05-12 22:57:22\u001b[0m | \u001b[1mINFO\u001b[0m | \"./../../../../var/folders/20/h5ktr5ls0zgdjw1dtlxcrlpc0000gn/T/ipykernel_89494/1145771832.py:9\":\u001b[34m get_picture_for_subtitle\u001b[0m - \u001b[1mlen pics:5, pic:https://images.pexels.com/photos/5691617/pexels-photo-5691617.jpeg\u001b[0m\n",
      "\u001b[32m2024-05-12 22:57:22\u001b[0m | \u001b[1mINFO\u001b[0m | \"./../../../../var/folders/20/h5ktr5ls0zgdjw1dtlxcrlpc0000gn/T/ipykernel_89494/2965486547.py:28\":\u001b[34m generate_picture_term\u001b[0m - \u001b[1msubject: 怎么快速赚到100万, subtitle_str:不斷學習和成長\u001b[0m\n",
      "\u001b[32m2024-05-12 22:57:22\u001b[0m | \u001b[1mINFO\u001b[0m | \"./app/services/llm.py:16\":\u001b[34m _generate_response\u001b[0m - \u001b[1mllm provider: openai\u001b[0m\n",
      "\"success growth\"\n",
      "\u001b[32m2024-05-12 22:57:43\u001b[0m | \u001b[32m\u001b[1mSUCCESS\u001b[0m | \"./../../../../var/folders/20/h5ktr5ls0zgdjw1dtlxcrlpc0000gn/T/ipykernel_89494/2965486547.py:44\":\u001b[34m generate_picture_term\u001b[0m - \u001b[32m\u001b[1mcompleted: \n",
      "\"success growth\"\u001b[0m\n",
      "\u001b[32m2024-05-12 22:57:43\u001b[0m | \u001b[1mINFO\u001b[0m | \"./../../../../var/folders/20/h5ktr5ls0zgdjw1dtlxcrlpc0000gn/T/ipykernel_89494/1684953646.py:18\":\u001b[34m search_picture\u001b[0m - \u001b[1msearching videos: https://api.pexels.com/v1/search?query=%22success+growth%22&per_page=20&orientation=portrait, with proxies: {}\u001b[0m\n",
      "\u001b[32m2024-05-12 22:57:45\u001b[0m | \u001b[1mINFO\u001b[0m | \"./../../../../var/folders/20/h5ktr5ls0zgdjw1dtlxcrlpc0000gn/T/ipykernel_89494/1145771832.py:9\":\u001b[34m get_picture_for_subtitle\u001b[0m - \u001b[1mlen pics:6, pic:https://images.pexels.com/photos/20071851/pexels-photo-20071851.jpeg\u001b[0m\n",
      "\u001b[32m2024-05-12 22:57:45\u001b[0m | \u001b[1mINFO\u001b[0m | \"./../../../../var/folders/20/h5ktr5ls0zgdjw1dtlxcrlpc0000gn/T/ipykernel_89494/2965486547.py:28\":\u001b[34m generate_picture_term\u001b[0m - \u001b[1msubject: 怎么快速赚到100万, subtitle_str:同時\u001b[0m\n",
      "\u001b[32m2024-05-12 22:57:45\u001b[0m | \u001b[1mINFO\u001b[0m | \"./app/services/llm.py:16\":\u001b[34m _generate_response\u001b[0m - \u001b[1mllm provider: openai\u001b[0m\n",
      "\"efficient\"\n",
      "\u001b[32m2024-05-12 22:58:07\u001b[0m | \u001b[32m\u001b[1mSUCCESS\u001b[0m | \"./../../../../var/folders/20/h5ktr5ls0zgdjw1dtlxcrlpc0000gn/T/ipykernel_89494/2965486547.py:44\":\u001b[34m generate_picture_term\u001b[0m - \u001b[32m\u001b[1mcompleted: \n",
      "\"efficient\"\u001b[0m\n",
      "\u001b[32m2024-05-12 22:58:07\u001b[0m | \u001b[1mINFO\u001b[0m | \"./../../../../var/folders/20/h5ktr5ls0zgdjw1dtlxcrlpc0000gn/T/ipykernel_89494/1684953646.py:18\":\u001b[34m search_picture\u001b[0m - \u001b[1msearching videos: https://api.pexels.com/v1/search?query=%22efficient%22&per_page=20&orientation=portrait, with proxies: {}\u001b[0m\n",
      "\u001b[32m2024-05-12 22:58:08\u001b[0m | \u001b[1mINFO\u001b[0m | \"./../../../../var/folders/20/h5ktr5ls0zgdjw1dtlxcrlpc0000gn/T/ipykernel_89494/1145771832.py:9\":\u001b[34m get_picture_for_subtitle\u001b[0m - \u001b[1mlen pics:7, pic:https://images.pexels.com/photos/4792503/pexels-photo-4792503.jpeg\u001b[0m\n",
      "\u001b[32m2024-05-12 22:58:08\u001b[0m | \u001b[1mINFO\u001b[0m | \"./../../../../var/folders/20/h5ktr5ls0zgdjw1dtlxcrlpc0000gn/T/ipykernel_89494/2965486547.py:28\":\u001b[34m generate_picture_term\u001b[0m - \u001b[1msubject: 怎么快速赚到100万, subtitle_str:積極尋找機會\u001b[0m\n",
      "\u001b[32m2024-05-12 22:58:08\u001b[0m | \u001b[1mINFO\u001b[0m | \"./app/services/llm.py:16\":\u001b[34m _generate_response\u001b[0m - \u001b[1mllm provider: openai\u001b[0m\n",
      "\"opportunity\"\n",
      "\u001b[32m2024-05-12 22:58:29\u001b[0m | \u001b[32m\u001b[1mSUCCESS\u001b[0m | \"./../../../../var/folders/20/h5ktr5ls0zgdjw1dtlxcrlpc0000gn/T/ipykernel_89494/2965486547.py:44\":\u001b[34m generate_picture_term\u001b[0m - \u001b[32m\u001b[1mcompleted: \n",
      "\"opportunity\"\u001b[0m\n",
      "\u001b[32m2024-05-12 22:58:29\u001b[0m | \u001b[1mINFO\u001b[0m | \"./../../../../var/folders/20/h5ktr5ls0zgdjw1dtlxcrlpc0000gn/T/ipykernel_89494/1684953646.py:18\":\u001b[34m search_picture\u001b[0m - \u001b[1msearching videos: https://api.pexels.com/v1/search?query=%22opportunity%22&per_page=20&orientation=portrait, with proxies: {}\u001b[0m\n",
      "\u001b[32m2024-05-12 22:58:31\u001b[0m | \u001b[1mINFO\u001b[0m | \"./../../../../var/folders/20/h5ktr5ls0zgdjw1dtlxcrlpc0000gn/T/ipykernel_89494/1145771832.py:9\":\u001b[34m get_picture_for_subtitle\u001b[0m - \u001b[1mlen pics:8, pic:https://images.pexels.com/photos/5366640/pexels-photo-5366640.jpeg\u001b[0m\n",
      "\u001b[32m2024-05-12 22:58:31\u001b[0m | \u001b[1mINFO\u001b[0m | \"./../../../../var/folders/20/h5ktr5ls0zgdjw1dtlxcrlpc0000gn/T/ipykernel_89494/2965486547.py:28\":\u001b[34m generate_picture_term\u001b[0m - \u001b[1msubject: 怎么快速赚到100万, subtitle_str:勇敢面對風險\u001b[0m\n",
      "\u001b[32m2024-05-12 22:58:31\u001b[0m | \u001b[1mINFO\u001b[0m | \"./app/services/llm.py:16\":\u001b[34m _generate_response\u001b[0m - \u001b[1mllm provider: openai\u001b[0m\n",
      "\"risk and reward\"\n",
      "\u001b[32m2024-05-12 22:58:52\u001b[0m | \u001b[32m\u001b[1mSUCCESS\u001b[0m | \"./../../../../var/folders/20/h5ktr5ls0zgdjw1dtlxcrlpc0000gn/T/ipykernel_89494/2965486547.py:44\":\u001b[34m generate_picture_term\u001b[0m - \u001b[32m\u001b[1mcompleted: \n",
      "\"risk and reward\"\u001b[0m\n",
      "\u001b[32m2024-05-12 22:58:52\u001b[0m | \u001b[1mINFO\u001b[0m | \"./../../../../var/folders/20/h5ktr5ls0zgdjw1dtlxcrlpc0000gn/T/ipykernel_89494/1684953646.py:18\":\u001b[34m search_picture\u001b[0m - \u001b[1msearching videos: https://api.pexels.com/v1/search?query=%22risk+and+reward%22&per_page=20&orientation=portrait, with proxies: {}\u001b[0m\n",
      "\u001b[32m2024-05-12 22:58:53\u001b[0m | \u001b[1mINFO\u001b[0m | \"./../../../../var/folders/20/h5ktr5ls0zgdjw1dtlxcrlpc0000gn/T/ipykernel_89494/1145771832.py:9\":\u001b[34m get_picture_for_subtitle\u001b[0m - \u001b[1mlen pics:9, pic:https://images.pexels.com/photos/6802049/pexels-photo-6802049.jpeg\u001b[0m\n",
      "\u001b[32m2024-05-12 22:58:53\u001b[0m | \u001b[1mINFO\u001b[0m | \"./../../../../var/folders/20/h5ktr5ls0zgdjw1dtlxcrlpc0000gn/T/ipykernel_89494/2965486547.py:28\":\u001b[34m generate_picture_term\u001b[0m - \u001b[1msubject: 怎么快速赚到100万, subtitle_str:最後\u001b[0m\n",
      "\u001b[32m2024-05-12 22:58:53\u001b[0m | \u001b[1mINFO\u001b[0m | \"./app/services/llm.py:16\":\u001b[34m _generate_response\u001b[0m - \u001b[1mllm provider: openai\u001b[0m\n",
      "\"achievement\"\n",
      "\u001b[32m2024-05-12 22:58:54\u001b[0m | \u001b[32m\u001b[1mSUCCESS\u001b[0m | \"./../../../../var/folders/20/h5ktr5ls0zgdjw1dtlxcrlpc0000gn/T/ipykernel_89494/2965486547.py:44\":\u001b[34m generate_picture_term\u001b[0m - \u001b[32m\u001b[1mcompleted: \n",
      "\"achievement\"\u001b[0m\n",
      "\u001b[32m2024-05-12 22:58:54\u001b[0m | \u001b[1mINFO\u001b[0m | \"./../../../../var/folders/20/h5ktr5ls0zgdjw1dtlxcrlpc0000gn/T/ipykernel_89494/1684953646.py:18\":\u001b[34m search_picture\u001b[0m - \u001b[1msearching videos: https://api.pexels.com/v1/search?query=%22achievement%22&per_page=20&orientation=portrait, with proxies: {}\u001b[0m\n",
      "\u001b[32m2024-05-12 22:58:55\u001b[0m | \u001b[1mINFO\u001b[0m | \"./../../../../var/folders/20/h5ktr5ls0zgdjw1dtlxcrlpc0000gn/T/ipykernel_89494/1145771832.py:9\":\u001b[34m get_picture_for_subtitle\u001b[0m - \u001b[1mlen pics:10, pic:https://images.pexels.com/photos/3186386/pexels-photo-3186386.jpeg\u001b[0m\n",
      "\u001b[32m2024-05-12 22:58:55\u001b[0m | \u001b[1mINFO\u001b[0m | \"./../../../../var/folders/20/h5ktr5ls0zgdjw1dtlxcrlpc0000gn/T/ipykernel_89494/2965486547.py:28\":\u001b[34m generate_picture_term\u001b[0m - \u001b[1msubject: 怎么快速赚到100万, subtitle_str:要善於把握時機\u001b[0m\n",
      "\u001b[32m2024-05-12 22:58:55\u001b[0m | \u001b[1mINFO\u001b[0m | \"./app/services/llm.py:16\":\u001b[34m _generate_response\u001b[0m - \u001b[1mllm provider: openai\u001b[0m\n",
      "\"opportunity\"\n",
      "\u001b[32m2024-05-12 22:59:16\u001b[0m | \u001b[32m\u001b[1mSUCCESS\u001b[0m | \"./../../../../var/folders/20/h5ktr5ls0zgdjw1dtlxcrlpc0000gn/T/ipykernel_89494/2965486547.py:44\":\u001b[34m generate_picture_term\u001b[0m - \u001b[32m\u001b[1mcompleted: \n",
      "\"opportunity\"\u001b[0m\n",
      "\u001b[32m2024-05-12 22:59:16\u001b[0m | \u001b[1mINFO\u001b[0m | \"./../../../../var/folders/20/h5ktr5ls0zgdjw1dtlxcrlpc0000gn/T/ipykernel_89494/1684953646.py:18\":\u001b[34m search_picture\u001b[0m - \u001b[1msearching videos: https://api.pexels.com/v1/search?query=%22opportunity%22&per_page=20&orientation=portrait, with proxies: {}\u001b[0m\n",
      "\u001b[32m2024-05-12 22:59:18\u001b[0m | \u001b[1mINFO\u001b[0m | \"./../../../../var/folders/20/h5ktr5ls0zgdjw1dtlxcrlpc0000gn/T/ipykernel_89494/1145771832.py:9\":\u001b[34m get_picture_for_subtitle\u001b[0m - \u001b[1mlen pics:11, pic:https://images.pexels.com/photos/4218704/pexels-photo-4218704.jpeg\u001b[0m\n",
      "\u001b[32m2024-05-12 22:59:18\u001b[0m | \u001b[1mINFO\u001b[0m | \"./../../../../var/folders/20/h5ktr5ls0zgdjw1dtlxcrlpc0000gn/T/ipykernel_89494/2965486547.py:28\":\u001b[34m generate_picture_term\u001b[0m - \u001b[1msubject: 怎么快速赚到100万, subtitle_str:抓住每一個能賺錢的機會\u001b[0m\n",
      "\u001b[32m2024-05-12 22:59:18\u001b[0m | \u001b[1mINFO\u001b[0m | \"./app/services/llm.py:16\":\u001b[34m _generate_response\u001b[0m - \u001b[1mllm provider: openai\u001b[0m\n",
      "\"money opportunities\"\n",
      "\u001b[32m2024-05-12 22:59:40\u001b[0m | \u001b[32m\u001b[1mSUCCESS\u001b[0m | \"./../../../../var/folders/20/h5ktr5ls0zgdjw1dtlxcrlpc0000gn/T/ipykernel_89494/2965486547.py:44\":\u001b[34m generate_picture_term\u001b[0m - \u001b[32m\u001b[1mcompleted: \n",
      "\"money opportunities\"\u001b[0m\n",
      "\u001b[32m2024-05-12 22:59:40\u001b[0m | \u001b[1mINFO\u001b[0m | \"./../../../../var/folders/20/h5ktr5ls0zgdjw1dtlxcrlpc0000gn/T/ipykernel_89494/1684953646.py:18\":\u001b[34m search_picture\u001b[0m - \u001b[1msearching videos: https://api.pexels.com/v1/search?query=%22money+opportunities%22&per_page=20&orientation=portrait, with proxies: {}\u001b[0m\n",
      "\u001b[32m2024-05-12 22:59:41\u001b[0m | \u001b[1mINFO\u001b[0m | \"./../../../../var/folders/20/h5ktr5ls0zgdjw1dtlxcrlpc0000gn/T/ipykernel_89494/1145771832.py:9\":\u001b[34m get_picture_for_subtitle\u001b[0m - \u001b[1mlen pics:12, pic:https://images.pexels.com/photos/6266770/pexels-photo-6266770.jpeg\u001b[0m\n",
      "\u001b[32m2024-05-12 22:59:41\u001b[0m | \u001b[1mINFO\u001b[0m | \"./../../../../var/folders/20/h5ktr5ls0zgdjw1dtlxcrlpc0000gn/T/ipykernel_89494/2965486547.py:28\":\u001b[34m generate_picture_term\u001b[0m - \u001b[1msubject: 怎么快速赚到100万, subtitle_str:願你早日實現\u001b[0m\n",
      "\u001b[32m2024-05-12 22:59:41\u001b[0m | \u001b[1mINFO\u001b[0m | \"./app/services/llm.py:16\":\u001b[34m _generate_response\u001b[0m - \u001b[1mllm provider: openai\u001b[0m\n",
      "\"success\"\n",
      "\u001b[32m2024-05-12 23:00:03\u001b[0m | \u001b[32m\u001b[1mSUCCESS\u001b[0m | \"./../../../../var/folders/20/h5ktr5ls0zgdjw1dtlxcrlpc0000gn/T/ipykernel_89494/2965486547.py:44\":\u001b[34m generate_picture_term\u001b[0m - \u001b[32m\u001b[1mcompleted: \n",
      "\"success\"\u001b[0m\n",
      "\u001b[32m2024-05-12 23:00:03\u001b[0m | \u001b[1mINFO\u001b[0m | \"./../../../../var/folders/20/h5ktr5ls0zgdjw1dtlxcrlpc0000gn/T/ipykernel_89494/1684953646.py:18\":\u001b[34m search_picture\u001b[0m - \u001b[1msearching videos: https://api.pexels.com/v1/search?query=%22success%22&per_page=20&orientation=portrait, with proxies: {}\u001b[0m\n",
      "\u001b[32m2024-05-12 23:00:04\u001b[0m | \u001b[1mINFO\u001b[0m | \"./../../../../var/folders/20/h5ktr5ls0zgdjw1dtlxcrlpc0000gn/T/ipykernel_89494/1145771832.py:9\":\u001b[34m get_picture_for_subtitle\u001b[0m - \u001b[1mlen pics:13, pic:https://images.pexels.com/photos/5717641/pexels-photo-5717641.jpeg\u001b[0m\n",
      "\u001b[32m2024-05-12 23:00:04\u001b[0m | \u001b[1mINFO\u001b[0m | \"./../../../../var/folders/20/h5ktr5ls0zgdjw1dtlxcrlpc0000gn/T/ipykernel_89494/2965486547.py:28\":\u001b[34m generate_picture_term\u001b[0m - \u001b[1msubject: 怎么快速赚到100万, subtitle_str:賺到100萬的夢想\u001b[0m\n",
      "\u001b[32m2024-05-12 23:00:04\u001b[0m | \u001b[1mINFO\u001b[0m | \"./app/services/llm.py:16\":\u001b[34m _generate_response\u001b[0m - \u001b[1mllm provider: openai\u001b[0m\n",
      "\"money dream\"\n",
      "\u001b[32m2024-05-12 23:00:25\u001b[0m | \u001b[32m\u001b[1mSUCCESS\u001b[0m | \"./../../../../var/folders/20/h5ktr5ls0zgdjw1dtlxcrlpc0000gn/T/ipykernel_89494/2965486547.py:44\":\u001b[34m generate_picture_term\u001b[0m - \u001b[32m\u001b[1mcompleted: \n",
      "\"money dream\"\u001b[0m\n",
      "\u001b[32m2024-05-12 23:00:25\u001b[0m | \u001b[1mINFO\u001b[0m | \"./../../../../var/folders/20/h5ktr5ls0zgdjw1dtlxcrlpc0000gn/T/ipykernel_89494/1684953646.py:18\":\u001b[34m search_picture\u001b[0m - \u001b[1msearching videos: https://api.pexels.com/v1/search?query=%22money+dream%22&per_page=20&orientation=portrait, with proxies: {}\u001b[0m\n",
      "\u001b[32m2024-05-12 23:00:27\u001b[0m | \u001b[1mINFO\u001b[0m | \"./../../../../var/folders/20/h5ktr5ls0zgdjw1dtlxcrlpc0000gn/T/ipykernel_89494/1145771832.py:9\":\u001b[34m get_picture_for_subtitle\u001b[0m - \u001b[1mlen pics:14, pic:https://images.pexels.com/photos/4386476/pexels-photo-4386476.jpeg\u001b[0m\n"
     ]
    }
   ],
   "source": [
    "all_picture_urls = get_picture_for_subtitle(video_subject, subtitle_path)"
   ]
  },
  {
   "cell_type": "code",
   "execution_count": 26,
   "id": "b4d866f9",
   "metadata": {},
   "outputs": [
    {
     "data": {
      "text/plain": [
       "['https://images.pexels.com/photos/2678301/pexels-photo-2678301.jpeg',\n",
       " 'https://images.pexels.com/photos/5080674/pexels-photo-5080674.jpeg',\n",
       " 'https://images.pexels.com/photos/5324968/pexels-photo-5324968.jpeg',\n",
       " 'https://images.pexels.com/photos/7173021/pexels-photo-7173021.jpeg',\n",
       " 'https://images.pexels.com/photos/5691617/pexels-photo-5691617.jpeg',\n",
       " 'https://images.pexels.com/photos/20071851/pexels-photo-20071851.jpeg',\n",
       " 'https://images.pexels.com/photos/4792503/pexels-photo-4792503.jpeg',\n",
       " 'https://images.pexels.com/photos/5366640/pexels-photo-5366640.jpeg',\n",
       " 'https://images.pexels.com/photos/6802049/pexels-photo-6802049.jpeg',\n",
       " 'https://images.pexels.com/photos/3186386/pexels-photo-3186386.jpeg',\n",
       " 'https://images.pexels.com/photos/4218704/pexels-photo-4218704.jpeg',\n",
       " 'https://images.pexels.com/photos/6266770/pexels-photo-6266770.jpeg',\n",
       " 'https://images.pexels.com/photos/5717641/pexels-photo-5717641.jpeg',\n",
       " 'https://images.pexels.com/photos/4386476/pexels-photo-4386476.jpeg']"
      ]
     },
     "execution_count": 26,
     "metadata": {},
     "output_type": "execute_result"
    }
   ],
   "source": [
    "all_picture_urls"
   ]
  },
  {
   "cell_type": "code",
   "execution_count": 50,
   "id": "af559bfb",
   "metadata": {},
   "outputs": [
    {
     "ename": "FileNotFoundError",
     "evalue": "[Errno 2] No such file or directory: 'example.srt'",
     "output_type": "error",
     "traceback": [
      "\u001b[0;31m---------------------------------------------------------------------------\u001b[0m",
      "\u001b[0;31mFileNotFoundError\u001b[0m                         Traceback (most recent call last)",
      "Cell \u001b[0;32mIn[50], line 69\u001b[0m\n\u001b[1;32m     66\u001b[0m picture_urls \u001b[38;5;241m=\u001b[39m [\u001b[38;5;124m'\u001b[39m\u001b[38;5;124mhttp://example.com/image1.jpg\u001b[39m\u001b[38;5;124m'\u001b[39m, \u001b[38;5;124m'\u001b[39m\u001b[38;5;124mhttp://example.com/image2.jpg\u001b[39m\u001b[38;5;124m'\u001b[39m, \u001b[38;5;124m'\u001b[39m\u001b[38;5;124mhttp://example.com/image3.jpg\u001b[39m\u001b[38;5;124m'\u001b[39m]\n\u001b[1;32m     67\u001b[0m sound_file_path \u001b[38;5;241m=\u001b[39m \u001b[38;5;124m'\u001b[39m\u001b[38;5;124mexample.mp3\u001b[39m\u001b[38;5;124m'\u001b[39m\n\u001b[0;32m---> 69\u001b[0m \u001b[43mmake_video\u001b[49m\u001b[43m(\u001b[49m\u001b[43msrt_file_path\u001b[49m\u001b[43m,\u001b[49m\u001b[43m \u001b[49m\u001b[43mpicture_urls\u001b[49m\u001b[43m,\u001b[49m\u001b[43m \u001b[49m\u001b[43msound_file_path\u001b[49m\u001b[43m)\u001b[49m\n",
      "Cell \u001b[0;32mIn[50], line 20\u001b[0m, in \u001b[0;36mmake_video\u001b[0;34m(srt_file_path, picture_urls, sound_file_path)\u001b[0m\n\u001b[1;32m     18\u001b[0m \u001b[38;5;28;01mdef\u001b[39;00m \u001b[38;5;21mmake_video\u001b[39m(srt_file_path, picture_urls, sound_file_path):\n\u001b[1;32m     19\u001b[0m     \u001b[38;5;66;03m# Read the subtitle file\u001b[39;00m\n\u001b[0;32m---> 20\u001b[0m     subs \u001b[38;5;241m=\u001b[39m \u001b[43mpysrt\u001b[49m\u001b[38;5;241;43m.\u001b[39;49m\u001b[43mopen\u001b[49m\u001b[43m(\u001b[49m\u001b[43msrt_file_path\u001b[49m\u001b[43m)\u001b[49m\n\u001b[1;32m     22\u001b[0m     \u001b[38;5;66;03m# Create a list of video clips\u001b[39;00m\n\u001b[1;32m     23\u001b[0m     clips \u001b[38;5;241m=\u001b[39m []\n",
      "File \u001b[0;32m~/miniconda3/envs/auto-upload/lib/python3.12/site-packages/pysrt/srtfile.py:151\u001b[0m, in \u001b[0;36mSubRipFile.open\u001b[0;34m(cls, path, encoding, error_handling)\u001b[0m\n\u001b[1;32m    143\u001b[0m \u001b[38;5;129m@classmethod\u001b[39m\n\u001b[1;32m    144\u001b[0m \u001b[38;5;28;01mdef\u001b[39;00m \u001b[38;5;21mopen\u001b[39m(\u001b[38;5;28mcls\u001b[39m, path\u001b[38;5;241m=\u001b[39m\u001b[38;5;124m'\u001b[39m\u001b[38;5;124m'\u001b[39m, encoding\u001b[38;5;241m=\u001b[39m\u001b[38;5;28;01mNone\u001b[39;00m, error_handling\u001b[38;5;241m=\u001b[39mERROR_PASS):\n\u001b[1;32m    145\u001b[0m \u001b[38;5;250m    \u001b[39m\u001b[38;5;124;03m\"\"\"\u001b[39;00m\n\u001b[1;32m    146\u001b[0m \u001b[38;5;124;03m    open([path, [encoding]])\u001b[39;00m\n\u001b[1;32m    147\u001b[0m \n\u001b[1;32m    148\u001b[0m \u001b[38;5;124;03m    If you do not provide any encoding, it can be detected if the file\u001b[39;00m\n\u001b[1;32m    149\u001b[0m \u001b[38;5;124;03m    contain a bit order mark, unless it is set to utf-8 as default.\u001b[39;00m\n\u001b[1;32m    150\u001b[0m \u001b[38;5;124;03m    \"\"\"\u001b[39;00m\n\u001b[0;32m--> 151\u001b[0m     source_file, encoding \u001b[38;5;241m=\u001b[39m \u001b[38;5;28;43mcls\u001b[39;49m\u001b[38;5;241;43m.\u001b[39;49m\u001b[43m_open_unicode_file\u001b[49m\u001b[43m(\u001b[49m\u001b[43mpath\u001b[49m\u001b[43m,\u001b[49m\u001b[43m \u001b[49m\u001b[43mclaimed_encoding\u001b[49m\u001b[38;5;241;43m=\u001b[39;49m\u001b[43mencoding\u001b[49m\u001b[43m)\u001b[49m\n\u001b[1;32m    152\u001b[0m     new_file \u001b[38;5;241m=\u001b[39m \u001b[38;5;28mcls\u001b[39m(path\u001b[38;5;241m=\u001b[39mpath, encoding\u001b[38;5;241m=\u001b[39mencoding)\n\u001b[1;32m    153\u001b[0m     new_file\u001b[38;5;241m.\u001b[39mread(source_file, error_handling\u001b[38;5;241m=\u001b[39merror_handling)\n",
      "File \u001b[0;32m~/miniconda3/envs/auto-upload/lib/python3.12/site-packages/pysrt/srtfile.py:292\u001b[0m, in \u001b[0;36mSubRipFile._open_unicode_file\u001b[0;34m(cls, path, claimed_encoding)\u001b[0m\n\u001b[1;32m    290\u001b[0m \u001b[38;5;129m@classmethod\u001b[39m\n\u001b[1;32m    291\u001b[0m \u001b[38;5;28;01mdef\u001b[39;00m \u001b[38;5;21m_open_unicode_file\u001b[39m(\u001b[38;5;28mcls\u001b[39m, path, claimed_encoding\u001b[38;5;241m=\u001b[39m\u001b[38;5;28;01mNone\u001b[39;00m):\n\u001b[0;32m--> 292\u001b[0m     encoding \u001b[38;5;241m=\u001b[39m claimed_encoding \u001b[38;5;129;01mor\u001b[39;00m \u001b[38;5;28;43mcls\u001b[39;49m\u001b[38;5;241;43m.\u001b[39;49m\u001b[43m_detect_encoding\u001b[49m\u001b[43m(\u001b[49m\u001b[43mpath\u001b[49m\u001b[43m)\u001b[49m\n\u001b[1;32m    293\u001b[0m     source_file \u001b[38;5;241m=\u001b[39m codecs\u001b[38;5;241m.\u001b[39mopen(path, \u001b[38;5;124m'\u001b[39m\u001b[38;5;124mr\u001b[39m\u001b[38;5;124m'\u001b[39m, encoding\u001b[38;5;241m=\u001b[39mencoding)\n\u001b[1;32m    295\u001b[0m     \u001b[38;5;66;03m# get rid of BOM if any\u001b[39;00m\n",
      "File \u001b[0;32m~/miniconda3/envs/auto-upload/lib/python3.12/site-packages/pysrt/srtfile.py:279\u001b[0m, in \u001b[0;36mSubRipFile._detect_encoding\u001b[0;34m(cls, path)\u001b[0m\n\u001b[1;32m    277\u001b[0m \u001b[38;5;129m@classmethod\u001b[39m\n\u001b[1;32m    278\u001b[0m \u001b[38;5;28;01mdef\u001b[39;00m \u001b[38;5;21m_detect_encoding\u001b[39m(\u001b[38;5;28mcls\u001b[39m, path):\n\u001b[0;32m--> 279\u001b[0m     file_descriptor \u001b[38;5;241m=\u001b[39m \u001b[38;5;28;43mopen\u001b[39;49m\u001b[43m(\u001b[49m\u001b[43mpath\u001b[49m\u001b[43m,\u001b[49m\u001b[43m \u001b[49m\u001b[38;5;124;43m'\u001b[39;49m\u001b[38;5;124;43mrb\u001b[39;49m\u001b[38;5;124;43m'\u001b[39;49m\u001b[43m)\u001b[49m\n\u001b[1;32m    280\u001b[0m     first_chars \u001b[38;5;241m=\u001b[39m file_descriptor\u001b[38;5;241m.\u001b[39mread(BIGGER_BOM)\n\u001b[1;32m    281\u001b[0m     file_descriptor\u001b[38;5;241m.\u001b[39mclose()\n",
      "\u001b[0;31mFileNotFoundError\u001b[0m: [Errno 2] No such file or directory: 'example.srt'"
     ]
    }
   ],
   "source": [
    "from moviepy.editor import ImageClip, concatenate_videoclips, AudioFileClip\n",
    "import pysrt\n",
    "import requests\n",
    "from tempfile import NamedTemporaryFile\n",
    "import os\n",
    "\n",
    "def download_image(url):\n",
    "    # Download the image and return the path to the temporary file\n",
    "    response = requests.get(url)\n",
    "    if response.status_code == 200:\n",
    "        temp_file = NamedTemporaryFile(delete=False, suffix='.jpg')\n",
    "        temp_file.write(response.content)\n",
    "        temp_file.close()\n",
    "        return temp_file.name\n",
    "    else:\n",
    "        raise Exception(f\"Failed to download image from {url}\")\n",
    "\n",
    "def make_video(srt_file_path, picture_urls, sound_file_path):\n",
    "    # Read the subtitle file\n",
    "    subs = pysrt.open(srt_file_path)\n",
    "    \n",
    "    # Create a list of video clips\n",
    "    clips = []\n",
    "    temp_files = []\n",
    "    \n",
    "    for sub, picture_url in zip(subs, picture_urls):\n",
    "        # Download the image to a temporary file\n",
    "        temp_image_path = download_image(picture_url)\n",
    "        temp_files.append(temp_image_path)\n",
    "        \n",
    "        # Calculate the start and end times of the subtitle (in seconds)\n",
    "        start_time = sub.start.ordinal / 1000  # ordinal is in milliseconds\n",
    "        end_time = sub.end.ordinal / 1000\n",
    "        duration = end_time - start_time\n",
    "        \n",
    "        # Create an image clip with the specified duration\n",
    "        img_clip = ImageClip(temp_image_path, duration=duration).set_fps(24)\n",
    "        \n",
    "        # Set the start time of the clip\n",
    "        img_clip = img_clip.set_start(start_time)\n",
    "        \n",
    "        # Add the clip to the list\n",
    "        clips.append(img_clip)\n",
    "    \n",
    "    # Concatenate all video clips with an explicit fps set\n",
    "    video = concatenate_videoclips(clips, method=\"compose\").set_fps(24)\n",
    "    \n",
    "    # Load the audio file\n",
    "    audio = AudioFileClip(sound_file_path)\n",
    "    \n",
    "    # Set the audio of the concatenated video clip\n",
    "    final_video = video.set_audio(audio)\n",
    "    \n",
    "    # Set the duration of the final video to match the audio duration\n",
    "    final_video = final_video.set_duration(audio.duration)\n",
    "    \n",
    "    # Output the final video file\n",
    "    final_video.write_videofile(\"output_video.mp4\", codec=\"libx264\", fps=24)\n",
    "    \n",
    "    # Clean up temporary files\n",
    "    for temp_file in temp_files:\n",
    "        os.unlink(temp_file)\n",
    "\n",
    "# Usage example\n",
    "srt_file_path = 'example.srt'\n",
    "picture_urls = ['http://example.com/image1.jpg', 'http://example.com/image2.jpg', 'http://example.com/image3.jpg']\n",
    "sound_file_path = 'example.mp3'\n",
    "\n",
    "make_video(srt_file_path, picture_urls, sound_file_path)"
   ]
  },
  {
   "cell_type": "code",
   "execution_count": 51,
   "id": "6ba852c1",
   "metadata": {},
   "outputs": [
    {
     "name": "stdout",
     "output_type": "stream",
     "text": [
      "Moviepy - Building video output_video.mp4.\n",
      "MoviePy - Writing audio in output_videoTEMP_MPY_wvf_snd.mp3\n"
     ]
    },
    {
     "name": "stderr",
     "output_type": "stream",
     "text": [
      "                                                                    "
     ]
    },
    {
     "name": "stdout",
     "output_type": "stream",
     "text": [
      "MoviePy - Done.\n",
      "Moviepy - Writing video output_video.mp4\n",
      "\n"
     ]
    },
    {
     "name": "stderr",
     "output_type": "stream",
     "text": [
      "\r"
     ]
    },
    {
     "ename": "TypeError",
     "evalue": "must be real number, not NoneType",
     "output_type": "error",
     "traceback": [
      "\u001b[0;31m---------------------------------------------------------------------------\u001b[0m",
      "\u001b[0;31mTypeError\u001b[0m                                 Traceback (most recent call last)",
      "Cell \u001b[0;32mIn[51], line 1\u001b[0m\n\u001b[0;32m----> 1\u001b[0m \u001b[43mmake_video\u001b[49m\u001b[43m(\u001b[49m\u001b[43msubtitle_path\u001b[49m\u001b[43m,\u001b[49m\u001b[43m \u001b[49m\u001b[43mall_picture_urls\u001b[49m\u001b[43m,\u001b[49m\u001b[43m \u001b[49m\u001b[43maudio_file\u001b[49m\u001b[43m)\u001b[49m\n",
      "Cell \u001b[0;32mIn[50], line 58\u001b[0m, in \u001b[0;36mmake_video\u001b[0;34m(srt_file_path, picture_urls, sound_file_path)\u001b[0m\n\u001b[1;32m     55\u001b[0m final_video \u001b[38;5;241m=\u001b[39m final_video\u001b[38;5;241m.\u001b[39mset_duration(audio\u001b[38;5;241m.\u001b[39mduration)\n\u001b[1;32m     57\u001b[0m \u001b[38;5;66;03m# Output the final video file\u001b[39;00m\n\u001b[0;32m---> 58\u001b[0m \u001b[43mfinal_video\u001b[49m\u001b[38;5;241;43m.\u001b[39;49m\u001b[43mwrite_videofile\u001b[49m\u001b[43m(\u001b[49m\u001b[38;5;124;43m\"\u001b[39;49m\u001b[38;5;124;43moutput_video.mp4\u001b[39;49m\u001b[38;5;124;43m\"\u001b[39;49m\u001b[43m,\u001b[49m\u001b[43m \u001b[49m\u001b[43mcodec\u001b[49m\u001b[38;5;241;43m=\u001b[39;49m\u001b[38;5;124;43m\"\u001b[39;49m\u001b[38;5;124;43mlibx264\u001b[39;49m\u001b[38;5;124;43m\"\u001b[39;49m\u001b[43m,\u001b[49m\u001b[43m \u001b[49m\u001b[43mfps\u001b[49m\u001b[38;5;241;43m=\u001b[39;49m\u001b[38;5;241;43m24\u001b[39;49m\u001b[43m)\u001b[49m\n\u001b[1;32m     60\u001b[0m \u001b[38;5;66;03m# Clean up temporary files\u001b[39;00m\n\u001b[1;32m     61\u001b[0m \u001b[38;5;28;01mfor\u001b[39;00m temp_file \u001b[38;5;129;01min\u001b[39;00m temp_files:\n",
      "File \u001b[0;32m~/miniconda3/envs/auto-upload/lib/python3.12/site-packages/decorator.py:232\u001b[0m, in \u001b[0;36mdecorate.<locals>.fun\u001b[0;34m(*args, **kw)\u001b[0m\n\u001b[1;32m    230\u001b[0m \u001b[38;5;28;01mif\u001b[39;00m \u001b[38;5;129;01mnot\u001b[39;00m kwsyntax:\n\u001b[1;32m    231\u001b[0m     args, kw \u001b[38;5;241m=\u001b[39m fix(args, kw, sig)\n\u001b[0;32m--> 232\u001b[0m \u001b[38;5;28;01mreturn\u001b[39;00m \u001b[43mcaller\u001b[49m\u001b[43m(\u001b[49m\u001b[43mfunc\u001b[49m\u001b[43m,\u001b[49m\u001b[43m \u001b[49m\u001b[38;5;241;43m*\u001b[39;49m\u001b[43m(\u001b[49m\u001b[43mextras\u001b[49m\u001b[43m \u001b[49m\u001b[38;5;241;43m+\u001b[39;49m\u001b[43m \u001b[49m\u001b[43margs\u001b[49m\u001b[43m)\u001b[49m\u001b[43m,\u001b[49m\u001b[43m \u001b[49m\u001b[38;5;241;43m*\u001b[39;49m\u001b[38;5;241;43m*\u001b[39;49m\u001b[43mkw\u001b[49m\u001b[43m)\u001b[49m\n",
      "File \u001b[0;32m~/miniconda3/envs/auto-upload/lib/python3.12/site-packages/moviepy/decorators.py:56\u001b[0m, in \u001b[0;36mrequires_duration\u001b[0;34m(f, clip, *a, **k)\u001b[0m\n\u001b[1;32m     54\u001b[0m     \u001b[38;5;28;01mraise\u001b[39;00m \u001b[38;5;167;01mValueError\u001b[39;00m(\u001b[38;5;124m\"\u001b[39m\u001b[38;5;124mAttribute \u001b[39m\u001b[38;5;124m'\u001b[39m\u001b[38;5;124mduration\u001b[39m\u001b[38;5;124m'\u001b[39m\u001b[38;5;124m not set\u001b[39m\u001b[38;5;124m\"\u001b[39m)\n\u001b[1;32m     55\u001b[0m \u001b[38;5;28;01melse\u001b[39;00m:\n\u001b[0;32m---> 56\u001b[0m     \u001b[38;5;28;01mreturn\u001b[39;00m \u001b[43mf\u001b[49m\u001b[43m(\u001b[49m\u001b[43mclip\u001b[49m\u001b[43m,\u001b[49m\u001b[43m \u001b[49m\u001b[38;5;241;43m*\u001b[39;49m\u001b[43ma\u001b[49m\u001b[43m,\u001b[49m\u001b[43m \u001b[49m\u001b[38;5;241;43m*\u001b[39;49m\u001b[38;5;241;43m*\u001b[39;49m\u001b[43mk\u001b[49m\u001b[43m)\u001b[49m\n",
      "File \u001b[0;32m~/miniconda3/envs/auto-upload/lib/python3.12/site-packages/decorator.py:232\u001b[0m, in \u001b[0;36mdecorate.<locals>.fun\u001b[0;34m(*args, **kw)\u001b[0m\n\u001b[1;32m    230\u001b[0m \u001b[38;5;28;01mif\u001b[39;00m \u001b[38;5;129;01mnot\u001b[39;00m kwsyntax:\n\u001b[1;32m    231\u001b[0m     args, kw \u001b[38;5;241m=\u001b[39m fix(args, kw, sig)\n\u001b[0;32m--> 232\u001b[0m \u001b[38;5;28;01mreturn\u001b[39;00m \u001b[43mcaller\u001b[49m\u001b[43m(\u001b[49m\u001b[43mfunc\u001b[49m\u001b[43m,\u001b[49m\u001b[43m \u001b[49m\u001b[38;5;241;43m*\u001b[39;49m\u001b[43m(\u001b[49m\u001b[43mextras\u001b[49m\u001b[43m \u001b[49m\u001b[38;5;241;43m+\u001b[39;49m\u001b[43m \u001b[49m\u001b[43margs\u001b[49m\u001b[43m)\u001b[49m\u001b[43m,\u001b[49m\u001b[43m \u001b[49m\u001b[38;5;241;43m*\u001b[39;49m\u001b[38;5;241;43m*\u001b[39;49m\u001b[43mkw\u001b[49m\u001b[43m)\u001b[49m\n",
      "File \u001b[0;32m~/miniconda3/envs/auto-upload/lib/python3.12/site-packages/moviepy/decorators.py:135\u001b[0m, in \u001b[0;36muse_clip_fps_by_default\u001b[0;34m(f, clip, *a, **k)\u001b[0m\n\u001b[1;32m    132\u001b[0m new_a \u001b[38;5;241m=\u001b[39m [fun(arg) \u001b[38;5;28;01mif\u001b[39;00m (name \u001b[38;5;241m==\u001b[39m \u001b[38;5;124m\"\u001b[39m\u001b[38;5;124mfps\u001b[39m\u001b[38;5;124m\"\u001b[39m) \u001b[38;5;28;01melse\u001b[39;00m arg \u001b[38;5;28;01mfor\u001b[39;00m (arg, name) \u001b[38;5;129;01min\u001b[39;00m \u001b[38;5;28mzip\u001b[39m(a, names)]\n\u001b[1;32m    133\u001b[0m new_kw \u001b[38;5;241m=\u001b[39m {k: fun(v) \u001b[38;5;28;01mif\u001b[39;00m k \u001b[38;5;241m==\u001b[39m \u001b[38;5;124m\"\u001b[39m\u001b[38;5;124mfps\u001b[39m\u001b[38;5;124m\"\u001b[39m \u001b[38;5;28;01melse\u001b[39;00m v \u001b[38;5;28;01mfor\u001b[39;00m (k, v) \u001b[38;5;129;01min\u001b[39;00m k\u001b[38;5;241m.\u001b[39mitems()}\n\u001b[0;32m--> 135\u001b[0m \u001b[38;5;28;01mreturn\u001b[39;00m \u001b[43mf\u001b[49m\u001b[43m(\u001b[49m\u001b[43mclip\u001b[49m\u001b[43m,\u001b[49m\u001b[43m \u001b[49m\u001b[38;5;241;43m*\u001b[39;49m\u001b[43mnew_a\u001b[49m\u001b[43m,\u001b[49m\u001b[43m \u001b[49m\u001b[38;5;241;43m*\u001b[39;49m\u001b[38;5;241;43m*\u001b[39;49m\u001b[43mnew_kw\u001b[49m\u001b[43m)\u001b[49m\n",
      "File \u001b[0;32m~/miniconda3/envs/auto-upload/lib/python3.12/site-packages/decorator.py:232\u001b[0m, in \u001b[0;36mdecorate.<locals>.fun\u001b[0;34m(*args, **kw)\u001b[0m\n\u001b[1;32m    230\u001b[0m \u001b[38;5;28;01mif\u001b[39;00m \u001b[38;5;129;01mnot\u001b[39;00m kwsyntax:\n\u001b[1;32m    231\u001b[0m     args, kw \u001b[38;5;241m=\u001b[39m fix(args, kw, sig)\n\u001b[0;32m--> 232\u001b[0m \u001b[38;5;28;01mreturn\u001b[39;00m \u001b[43mcaller\u001b[49m\u001b[43m(\u001b[49m\u001b[43mfunc\u001b[49m\u001b[43m,\u001b[49m\u001b[43m \u001b[49m\u001b[38;5;241;43m*\u001b[39;49m\u001b[43m(\u001b[49m\u001b[43mextras\u001b[49m\u001b[43m \u001b[49m\u001b[38;5;241;43m+\u001b[39;49m\u001b[43m \u001b[49m\u001b[43margs\u001b[49m\u001b[43m)\u001b[49m\u001b[43m,\u001b[49m\u001b[43m \u001b[49m\u001b[38;5;241;43m*\u001b[39;49m\u001b[38;5;241;43m*\u001b[39;49m\u001b[43mkw\u001b[49m\u001b[43m)\u001b[49m\n",
      "File \u001b[0;32m~/miniconda3/envs/auto-upload/lib/python3.12/site-packages/moviepy/decorators.py:24\u001b[0m, in \u001b[0;36mconvert_masks_to_RGB\u001b[0;34m(f, clip, *a, **k)\u001b[0m\n\u001b[1;32m     22\u001b[0m \u001b[38;5;28;01mif\u001b[39;00m clip\u001b[38;5;241m.\u001b[39mismask:\n\u001b[1;32m     23\u001b[0m     clip \u001b[38;5;241m=\u001b[39m clip\u001b[38;5;241m.\u001b[39mto_RGB()\n\u001b[0;32m---> 24\u001b[0m \u001b[38;5;28;01mreturn\u001b[39;00m \u001b[43mf\u001b[49m\u001b[43m(\u001b[49m\u001b[43mclip\u001b[49m\u001b[43m,\u001b[49m\u001b[43m \u001b[49m\u001b[38;5;241;43m*\u001b[39;49m\u001b[43ma\u001b[49m\u001b[43m,\u001b[49m\u001b[43m \u001b[49m\u001b[38;5;241;43m*\u001b[39;49m\u001b[38;5;241;43m*\u001b[39;49m\u001b[43mk\u001b[49m\u001b[43m)\u001b[49m\n",
      "File \u001b[0;32m~/miniconda3/envs/auto-upload/lib/python3.12/site-packages/decorator.py:232\u001b[0m, in \u001b[0;36mdecorate.<locals>.fun\u001b[0;34m(*args, **kw)\u001b[0m\n\u001b[1;32m    230\u001b[0m \u001b[38;5;28;01mif\u001b[39;00m \u001b[38;5;129;01mnot\u001b[39;00m kwsyntax:\n\u001b[1;32m    231\u001b[0m     args, kw \u001b[38;5;241m=\u001b[39m fix(args, kw, sig)\n\u001b[0;32m--> 232\u001b[0m \u001b[38;5;28;01mreturn\u001b[39;00m \u001b[43mcaller\u001b[49m\u001b[43m(\u001b[49m\u001b[43mfunc\u001b[49m\u001b[43m,\u001b[49m\u001b[43m \u001b[49m\u001b[38;5;241;43m*\u001b[39;49m\u001b[43m(\u001b[49m\u001b[43mextras\u001b[49m\u001b[43m \u001b[49m\u001b[38;5;241;43m+\u001b[39;49m\u001b[43m \u001b[49m\u001b[43margs\u001b[49m\u001b[43m)\u001b[49m\u001b[43m,\u001b[49m\u001b[43m \u001b[49m\u001b[38;5;241;43m*\u001b[39;49m\u001b[38;5;241;43m*\u001b[39;49m\u001b[43mkw\u001b[49m\u001b[43m)\u001b[49m\n",
      "File \u001b[0;32m~/miniconda3/envs/auto-upload/lib/python3.12/site-packages/moviepy/decorators.py:89\u001b[0m, in \u001b[0;36mpreprocess_args.<locals>.wrapper\u001b[0;34m(f, *a, **kw)\u001b[0m\n\u001b[1;32m     84\u001b[0m new_a \u001b[38;5;241m=\u001b[39m [\n\u001b[1;32m     85\u001b[0m     fun(arg) \u001b[38;5;28;01mif\u001b[39;00m (name \u001b[38;5;129;01min\u001b[39;00m varnames) \u001b[38;5;129;01mand\u001b[39;00m (arg \u001b[38;5;129;01mis\u001b[39;00m \u001b[38;5;129;01mnot\u001b[39;00m \u001b[38;5;28;01mNone\u001b[39;00m) \u001b[38;5;28;01melse\u001b[39;00m arg\n\u001b[1;32m     86\u001b[0m     \u001b[38;5;28;01mfor\u001b[39;00m (arg, name) \u001b[38;5;129;01min\u001b[39;00m \u001b[38;5;28mzip\u001b[39m(a, names)\n\u001b[1;32m     87\u001b[0m ]\n\u001b[1;32m     88\u001b[0m new_kw \u001b[38;5;241m=\u001b[39m {k: fun(v) \u001b[38;5;28;01mif\u001b[39;00m k \u001b[38;5;129;01min\u001b[39;00m varnames \u001b[38;5;28;01melse\u001b[39;00m v \u001b[38;5;28;01mfor\u001b[39;00m (k, v) \u001b[38;5;129;01min\u001b[39;00m kw\u001b[38;5;241m.\u001b[39mitems()}\n\u001b[0;32m---> 89\u001b[0m \u001b[38;5;28;01mreturn\u001b[39;00m \u001b[43mf\u001b[49m\u001b[43m(\u001b[49m\u001b[38;5;241;43m*\u001b[39;49m\u001b[43mnew_a\u001b[49m\u001b[43m,\u001b[49m\u001b[43m \u001b[49m\u001b[38;5;241;43m*\u001b[39;49m\u001b[38;5;241;43m*\u001b[39;49m\u001b[43mnew_kw\u001b[49m\u001b[43m)\u001b[49m\n",
      "File \u001b[0;32m~/miniconda3/envs/auto-upload/lib/python3.12/site-packages/moviepy/video/VideoClip.py:343\u001b[0m, in \u001b[0;36mVideoClip.write_videofile\u001b[0;34m(self, filename, fps, codec, bitrate, audio, audio_fps, preset, audio_nbytes, audio_codec, audio_bitrate, audio_bufsize, temp_audiofile, temp_audiofile_path, rewrite_audio, remove_temp, write_logfile, threads, ffmpeg_params, logger, pix_fmt)\u001b[0m\n\u001b[1;32m    331\u001b[0m \u001b[38;5;28;01mif\u001b[39;00m make_audio:\n\u001b[1;32m    332\u001b[0m     \u001b[38;5;28mself\u001b[39m\u001b[38;5;241m.\u001b[39maudio\u001b[38;5;241m.\u001b[39mwrite_audiofile(\n\u001b[1;32m    333\u001b[0m         audiofile,\n\u001b[1;32m    334\u001b[0m         audio_fps,\n\u001b[0;32m   (...)\u001b[0m\n\u001b[1;32m    340\u001b[0m         logger\u001b[38;5;241m=\u001b[39mlogger,\n\u001b[1;32m    341\u001b[0m     )\n\u001b[0;32m--> 343\u001b[0m \u001b[43mffmpeg_write_video\u001b[49m\u001b[43m(\u001b[49m\n\u001b[1;32m    344\u001b[0m \u001b[43m    \u001b[49m\u001b[38;5;28;43mself\u001b[39;49m\u001b[43m,\u001b[49m\n\u001b[1;32m    345\u001b[0m \u001b[43m    \u001b[49m\u001b[43mfilename\u001b[49m\u001b[43m,\u001b[49m\n\u001b[1;32m    346\u001b[0m \u001b[43m    \u001b[49m\u001b[43mfps\u001b[49m\u001b[43m,\u001b[49m\n\u001b[1;32m    347\u001b[0m \u001b[43m    \u001b[49m\u001b[43mcodec\u001b[49m\u001b[43m,\u001b[49m\n\u001b[1;32m    348\u001b[0m \u001b[43m    \u001b[49m\u001b[43mbitrate\u001b[49m\u001b[38;5;241;43m=\u001b[39;49m\u001b[43mbitrate\u001b[49m\u001b[43m,\u001b[49m\n\u001b[1;32m    349\u001b[0m \u001b[43m    \u001b[49m\u001b[43mpreset\u001b[49m\u001b[38;5;241;43m=\u001b[39;49m\u001b[43mpreset\u001b[49m\u001b[43m,\u001b[49m\n\u001b[1;32m    350\u001b[0m \u001b[43m    \u001b[49m\u001b[43mwrite_logfile\u001b[49m\u001b[38;5;241;43m=\u001b[39;49m\u001b[43mwrite_logfile\u001b[49m\u001b[43m,\u001b[49m\n\u001b[1;32m    351\u001b[0m \u001b[43m    \u001b[49m\u001b[43maudiofile\u001b[49m\u001b[38;5;241;43m=\u001b[39;49m\u001b[43maudiofile\u001b[49m\u001b[43m,\u001b[49m\n\u001b[1;32m    352\u001b[0m \u001b[43m    \u001b[49m\u001b[43mthreads\u001b[49m\u001b[38;5;241;43m=\u001b[39;49m\u001b[43mthreads\u001b[49m\u001b[43m,\u001b[49m\n\u001b[1;32m    353\u001b[0m \u001b[43m    \u001b[49m\u001b[43mffmpeg_params\u001b[49m\u001b[38;5;241;43m=\u001b[39;49m\u001b[43mffmpeg_params\u001b[49m\u001b[43m,\u001b[49m\n\u001b[1;32m    354\u001b[0m \u001b[43m    \u001b[49m\u001b[43mlogger\u001b[49m\u001b[38;5;241;43m=\u001b[39;49m\u001b[43mlogger\u001b[49m\u001b[43m,\u001b[49m\n\u001b[1;32m    355\u001b[0m \u001b[43m    \u001b[49m\u001b[43mpix_fmt\u001b[49m\u001b[38;5;241;43m=\u001b[39;49m\u001b[43mpix_fmt\u001b[49m\u001b[43m,\u001b[49m\n\u001b[1;32m    356\u001b[0m \u001b[43m\u001b[49m\u001b[43m)\u001b[49m\n\u001b[1;32m    358\u001b[0m \u001b[38;5;28;01mif\u001b[39;00m remove_temp \u001b[38;5;129;01mand\u001b[39;00m make_audio:\n\u001b[1;32m    359\u001b[0m     \u001b[38;5;28;01mif\u001b[39;00m os\u001b[38;5;241m.\u001b[39mpath\u001b[38;5;241m.\u001b[39mexists(audiofile):\n",
      "File \u001b[0;32m~/miniconda3/envs/auto-upload/lib/python3.12/site-packages/moviepy/video/io/ffmpeg_writer.py:243\u001b[0m, in \u001b[0;36mffmpeg_write_video\u001b[0;34m(clip, filename, fps, codec, bitrate, preset, withmask, write_logfile, audiofile, threads, ffmpeg_params, logger, pix_fmt)\u001b[0m\n\u001b[1;32m    241\u001b[0m \u001b[38;5;28;01mif\u001b[39;00m \u001b[38;5;129;01mnot\u001b[39;00m pix_fmt:\n\u001b[1;32m    242\u001b[0m     pix_fmt \u001b[38;5;241m=\u001b[39m \u001b[38;5;124m\"\u001b[39m\u001b[38;5;124mrgba\u001b[39m\u001b[38;5;124m\"\u001b[39m \u001b[38;5;28;01mif\u001b[39;00m withmask \u001b[38;5;28;01melse\u001b[39;00m \u001b[38;5;124m\"\u001b[39m\u001b[38;5;124mrgb24\u001b[39m\u001b[38;5;124m\"\u001b[39m\n\u001b[0;32m--> 243\u001b[0m \u001b[38;5;28;01mwith\u001b[39;00m \u001b[43mFFMPEG_VideoWriter\u001b[49m\u001b[43m(\u001b[49m\n\u001b[1;32m    244\u001b[0m \u001b[43m    \u001b[49m\u001b[43mfilename\u001b[49m\u001b[43m,\u001b[49m\n\u001b[1;32m    245\u001b[0m \u001b[43m    \u001b[49m\u001b[43mclip\u001b[49m\u001b[38;5;241;43m.\u001b[39;49m\u001b[43msize\u001b[49m\u001b[43m,\u001b[49m\n\u001b[1;32m    246\u001b[0m \u001b[43m    \u001b[49m\u001b[43mfps\u001b[49m\u001b[43m,\u001b[49m\n\u001b[1;32m    247\u001b[0m \u001b[43m    \u001b[49m\u001b[43mcodec\u001b[49m\u001b[38;5;241;43m=\u001b[39;49m\u001b[43mcodec\u001b[49m\u001b[43m,\u001b[49m\n\u001b[1;32m    248\u001b[0m \u001b[43m    \u001b[49m\u001b[43mpreset\u001b[49m\u001b[38;5;241;43m=\u001b[39;49m\u001b[43mpreset\u001b[49m\u001b[43m,\u001b[49m\n\u001b[1;32m    249\u001b[0m \u001b[43m    \u001b[49m\u001b[43mbitrate\u001b[49m\u001b[38;5;241;43m=\u001b[39;49m\u001b[43mbitrate\u001b[49m\u001b[43m,\u001b[49m\n\u001b[1;32m    250\u001b[0m \u001b[43m    \u001b[49m\u001b[43mlogfile\u001b[49m\u001b[38;5;241;43m=\u001b[39;49m\u001b[43mlogfile\u001b[49m\u001b[43m,\u001b[49m\n\u001b[1;32m    251\u001b[0m \u001b[43m    \u001b[49m\u001b[43maudiofile\u001b[49m\u001b[38;5;241;43m=\u001b[39;49m\u001b[43maudiofile\u001b[49m\u001b[43m,\u001b[49m\n\u001b[1;32m    252\u001b[0m \u001b[43m    \u001b[49m\u001b[43mthreads\u001b[49m\u001b[38;5;241;43m=\u001b[39;49m\u001b[43mthreads\u001b[49m\u001b[43m,\u001b[49m\n\u001b[1;32m    253\u001b[0m \u001b[43m    \u001b[49m\u001b[43mffmpeg_params\u001b[49m\u001b[38;5;241;43m=\u001b[39;49m\u001b[43mffmpeg_params\u001b[49m\u001b[43m,\u001b[49m\n\u001b[1;32m    254\u001b[0m \u001b[43m    \u001b[49m\u001b[43mpix_fmt\u001b[49m\u001b[38;5;241;43m=\u001b[39;49m\u001b[43mpix_fmt\u001b[49m\u001b[43m,\u001b[49m\n\u001b[1;32m    255\u001b[0m \u001b[43m\u001b[49m\u001b[43m)\u001b[49m \u001b[38;5;28;01mas\u001b[39;00m writer:\n\u001b[1;32m    256\u001b[0m     \u001b[38;5;28;01mfor\u001b[39;00m t, frame \u001b[38;5;129;01min\u001b[39;00m clip\u001b[38;5;241m.\u001b[39miter_frames(\n\u001b[1;32m    257\u001b[0m         logger\u001b[38;5;241m=\u001b[39mlogger, with_times\u001b[38;5;241m=\u001b[39m\u001b[38;5;28;01mTrue\u001b[39;00m, fps\u001b[38;5;241m=\u001b[39mfps, dtype\u001b[38;5;241m=\u001b[39m\u001b[38;5;124m\"\u001b[39m\u001b[38;5;124muint8\u001b[39m\u001b[38;5;124m\"\u001b[39m\n\u001b[1;32m    258\u001b[0m     ):\n\u001b[1;32m    259\u001b[0m         \u001b[38;5;28;01mif\u001b[39;00m withmask:\n",
      "File \u001b[0;32m~/miniconda3/envs/auto-upload/lib/python3.12/site-packages/moviepy/video/io/ffmpeg_writer.py:111\u001b[0m, in \u001b[0;36mFFMPEG_VideoWriter.__init__\u001b[0;34m(self, filename, size, fps, codec, audiofile, preset, bitrate, withmask, logfile, threads, ffmpeg_params, pix_fmt)\u001b[0m\n\u001b[1;32m     94\u001b[0m     pix_fmt \u001b[38;5;241m=\u001b[39m \u001b[38;5;124m\"\u001b[39m\u001b[38;5;124mrgba\u001b[39m\u001b[38;5;124m\"\u001b[39m \u001b[38;5;28;01mif\u001b[39;00m withmask \u001b[38;5;28;01melse\u001b[39;00m \u001b[38;5;124m\"\u001b[39m\u001b[38;5;124mrgb24\u001b[39m\u001b[38;5;124m\"\u001b[39m\n\u001b[1;32m     96\u001b[0m \u001b[38;5;66;03m# order is important\u001b[39;00m\n\u001b[1;32m     97\u001b[0m cmd \u001b[38;5;241m=\u001b[39m [\n\u001b[1;32m     98\u001b[0m     FFMPEG_BINARY,\n\u001b[1;32m     99\u001b[0m     \u001b[38;5;124m\"\u001b[39m\u001b[38;5;124m-y\u001b[39m\u001b[38;5;124m\"\u001b[39m,\n\u001b[1;32m    100\u001b[0m     \u001b[38;5;124m\"\u001b[39m\u001b[38;5;124m-loglevel\u001b[39m\u001b[38;5;124m\"\u001b[39m,\n\u001b[1;32m    101\u001b[0m     \u001b[38;5;124m\"\u001b[39m\u001b[38;5;124merror\u001b[39m\u001b[38;5;124m\"\u001b[39m \u001b[38;5;28;01mif\u001b[39;00m logfile \u001b[38;5;241m==\u001b[39m sp\u001b[38;5;241m.\u001b[39mPIPE \u001b[38;5;28;01melse\u001b[39;00m \u001b[38;5;124m\"\u001b[39m\u001b[38;5;124minfo\u001b[39m\u001b[38;5;124m\"\u001b[39m,\n\u001b[1;32m    102\u001b[0m     \u001b[38;5;124m\"\u001b[39m\u001b[38;5;124m-f\u001b[39m\u001b[38;5;124m\"\u001b[39m,\n\u001b[1;32m    103\u001b[0m     \u001b[38;5;124m\"\u001b[39m\u001b[38;5;124mrawvideo\u001b[39m\u001b[38;5;124m\"\u001b[39m,\n\u001b[1;32m    104\u001b[0m     \u001b[38;5;124m\"\u001b[39m\u001b[38;5;124m-vcodec\u001b[39m\u001b[38;5;124m\"\u001b[39m,\n\u001b[1;32m    105\u001b[0m     \u001b[38;5;124m\"\u001b[39m\u001b[38;5;124mrawvideo\u001b[39m\u001b[38;5;124m\"\u001b[39m,\n\u001b[1;32m    106\u001b[0m     \u001b[38;5;124m\"\u001b[39m\u001b[38;5;124m-s\u001b[39m\u001b[38;5;124m\"\u001b[39m,\n\u001b[1;32m    107\u001b[0m     \u001b[38;5;124m\"\u001b[39m\u001b[38;5;132;01m%d\u001b[39;00m\u001b[38;5;124mx\u001b[39m\u001b[38;5;132;01m%d\u001b[39;00m\u001b[38;5;124m\"\u001b[39m \u001b[38;5;241m%\u001b[39m (size[\u001b[38;5;241m0\u001b[39m], size[\u001b[38;5;241m1\u001b[39m]),\n\u001b[1;32m    108\u001b[0m     \u001b[38;5;124m\"\u001b[39m\u001b[38;5;124m-pix_fmt\u001b[39m\u001b[38;5;124m\"\u001b[39m,\n\u001b[1;32m    109\u001b[0m     pix_fmt,\n\u001b[1;32m    110\u001b[0m     \u001b[38;5;124m\"\u001b[39m\u001b[38;5;124m-r\u001b[39m\u001b[38;5;124m\"\u001b[39m,\n\u001b[0;32m--> 111\u001b[0m     \u001b[38;5;124;43m\"\u001b[39;49m\u001b[38;5;132;43;01m%.02f\u001b[39;49;00m\u001b[38;5;124;43m\"\u001b[39;49m\u001b[43m \u001b[49m\u001b[38;5;241;43m%\u001b[39;49m\u001b[43m \u001b[49m\u001b[43mfps\u001b[49m,\n\u001b[1;32m    112\u001b[0m     \u001b[38;5;124m\"\u001b[39m\u001b[38;5;124m-an\u001b[39m\u001b[38;5;124m\"\u001b[39m,\n\u001b[1;32m    113\u001b[0m     \u001b[38;5;124m\"\u001b[39m\u001b[38;5;124m-i\u001b[39m\u001b[38;5;124m\"\u001b[39m,\n\u001b[1;32m    114\u001b[0m     \u001b[38;5;124m\"\u001b[39m\u001b[38;5;124m-\u001b[39m\u001b[38;5;124m\"\u001b[39m,\n\u001b[1;32m    115\u001b[0m ]\n\u001b[1;32m    116\u001b[0m \u001b[38;5;28;01mif\u001b[39;00m audiofile \u001b[38;5;129;01mis\u001b[39;00m \u001b[38;5;129;01mnot\u001b[39;00m \u001b[38;5;28;01mNone\u001b[39;00m:\n\u001b[1;32m    117\u001b[0m     cmd\u001b[38;5;241m.\u001b[39mextend([\u001b[38;5;124m\"\u001b[39m\u001b[38;5;124m-i\u001b[39m\u001b[38;5;124m\"\u001b[39m, audiofile, \u001b[38;5;124m\"\u001b[39m\u001b[38;5;124m-acodec\u001b[39m\u001b[38;5;124m\"\u001b[39m, \u001b[38;5;124m\"\u001b[39m\u001b[38;5;124mcopy\u001b[39m\u001b[38;5;124m\"\u001b[39m])\n",
      "\u001b[0;31mTypeError\u001b[0m: must be real number, not NoneType"
     ]
    }
   ],
   "source": [
    "make_video(subtitle_path, all_picture_urls, audio_file)"
   ]
  },
  {
   "cell_type": "code",
   "execution_count": 44,
   "id": "b0b9e615",
   "metadata": {},
   "outputs": [
    {
     "name": "stdout",
     "output_type": "stream",
     "text": [
      "srt_file_path:/Users/roper/work/auto_video_generator/storage/tasks/task_id_test_123/subtitle.srt, picture_urls:['https://images.pexels.com/photos/2678301/pexels-photo-2678301.jpeg', 'https://images.pexels.com/photos/5080674/pexels-photo-5080674.jpeg', 'https://images.pexels.com/photos/5324968/pexels-photo-5324968.jpeg', 'https://images.pexels.com/photos/7173021/pexels-photo-7173021.jpeg', 'https://images.pexels.com/photos/5691617/pexels-photo-5691617.jpeg', 'https://images.pexels.com/photos/20071851/pexels-photo-20071851.jpeg', 'https://images.pexels.com/photos/4792503/pexels-photo-4792503.jpeg', 'https://images.pexels.com/photos/5366640/pexels-photo-5366640.jpeg', 'https://images.pexels.com/photos/6802049/pexels-photo-6802049.jpeg', 'https://images.pexels.com/photos/3186386/pexels-photo-3186386.jpeg', 'https://images.pexels.com/photos/4218704/pexels-photo-4218704.jpeg', 'https://images.pexels.com/photos/6266770/pexels-photo-6266770.jpeg', 'https://images.pexels.com/photos/5717641/pexels-photo-5717641.jpeg', 'https://images.pexels.com/photos/4386476/pexels-photo-4386476.jpeg'], sound_file_path:/Users/roper/work/auto_video_generator/storage/tasks/task_id_test_123/audio.mp3\n",
      "start handle sub:1\n",
      "00:00:00,000 --> 00:00:00,580\n",
      "首先\n",
      ", picture_url:https://images.pexels.com/photos/2678301/pexels-photo-2678301.jpeg\n",
      "start handle sub:2\n",
      "00:00:00,900 --> 00:00:02,600\n",
      "要確立一個明確的目標\n",
      ", picture_url:https://images.pexels.com/photos/5080674/pexels-photo-5080674.jpeg\n",
      "start handle sub:3\n",
      "00:00:02,940 --> 00:00:04,420\n",
      "並制定可行的計畫\n",
      ", picture_url:https://images.pexels.com/photos/5324968/pexels-photo-5324968.jpeg\n",
      "start handle sub:4\n",
      "00:00:04,980 --> 00:00:05,520\n",
      "其次\n",
      ", picture_url:https://images.pexels.com/photos/7173021/pexels-photo-7173021.jpeg\n",
      "start handle sub:5\n",
      "00:00:05,860 --> 00:00:07,880\n",
      "專注於提升自己的技能\n",
      ", picture_url:https://images.pexels.com/photos/5691617/pexels-photo-5691617.jpeg\n",
      "start handle sub:6\n",
      "00:00:08,240 --> 00:00:09,500\n",
      "不斷學習和成長\n",
      ", picture_url:https://images.pexels.com/photos/20071851/pexels-photo-20071851.jpeg\n",
      "start handle sub:7\n",
      "00:00:10,060 --> 00:00:10,680\n",
      "同時\n",
      ", picture_url:https://images.pexels.com/photos/4792503/pexels-photo-4792503.jpeg\n",
      "start handle sub:8\n",
      "00:00:11,100 --> 00:00:12,140\n",
      "積極尋找機會\n",
      ", picture_url:https://images.pexels.com/photos/5366640/pexels-photo-5366640.jpeg\n",
      "start handle sub:9\n",
      "00:00:12,600 --> 00:00:13,660\n",
      "勇敢面對風險\n",
      ", picture_url:https://images.pexels.com/photos/6802049/pexels-photo-6802049.jpeg\n",
      "start handle sub:10\n",
      "00:00:14,320 --> 00:00:14,720\n",
      "最後\n",
      ", picture_url:https://images.pexels.com/photos/3186386/pexels-photo-3186386.jpeg\n",
      "start handle sub:11\n",
      "00:00:15,060 --> 00:00:16,340\n",
      "要善於把握時機\n",
      ", picture_url:https://images.pexels.com/photos/4218704/pexels-photo-4218704.jpeg\n",
      "start handle sub:12\n",
      "00:00:16,700 --> 00:00:18,360\n",
      "抓住每一個能賺錢的機會\n",
      ", picture_url:https://images.pexels.com/photos/6266770/pexels-photo-6266770.jpeg\n",
      "start handle sub:13\n",
      "00:00:19,040 --> 00:00:20,180\n",
      "願你早日實現\n",
      ", picture_url:https://images.pexels.com/photos/5717641/pexels-photo-5717641.jpeg\n",
      "start handle sub:14\n",
      "00:00:20,400 --> 00:00:21,680\n",
      "賺到100萬的夢想\n",
      ", picture_url:https://images.pexels.com/photos/4386476/pexels-photo-4386476.jpeg\n"
     ]
    }
   ],
   "source": [
    "srt_file_path = subtitle_path\n",
    "picture_urls = all_picture_urls\n",
    "sound_file_path = audio_file \n",
    "print(f'srt_file_path:{srt_file_path}, picture_urls:{picture_urls}, sound_file_path:{sound_file_path}')\n",
    "    \n",
    "# 读取字幕文件\n",
    "subs = pysrt.open(srt_file_path)\n",
    "\n",
    "# 创建视频片段列表\n",
    "clips = []\n",
    "temp_files = []\n",
    "\n",
    "for sub, picture_url in zip(subs, picture_urls):\n",
    "    print(f'start handle sub:{sub}, picture_url:{picture_url}')\n",
    "    # 下载图片到临时文件\n",
    "    temp_image_path = download_image(picture_url)\n",
    "    temp_files.append(temp_image_path)\n",
    "    \n",
    "    # 计算字幕的开始和结束时间（以秒为单位）\n",
    "    start_time = sub.start.hours * 3600 + sub.start.minutes * 60 + sub.start.seconds + sub.start.milliseconds / 1000\n",
    "    end_time = sub.end.hours * 3600 + sub.end.minutes * 60 + sub.end.seconds + sub.end.milliseconds / 1000\n",
    "    duration = end_time - start_time\n",
    "    \n",
    "    # 创建一个图片剪辑\n",
    "    img_clip = ImageClip(temp_image_path, duration=duration).set_fps(24)\n",
    "    \n",
    "    # 设置剪辑的开始和结束时间\n",
    "    img_clip = img_clip.set_start(start_time).set_duration(duration)\n",
    "    \n",
    "    # 将剪辑添加到列表中\n",
    "    clips.append(img_clip)\n",
    "\n"
   ]
  },
  {
   "cell_type": "code",
   "execution_count": 45,
   "id": "d5f5d434",
   "metadata": {},
   "outputs": [],
   "source": [
    "# 合并所有视频片段\n",
    "video = concatenate_videoclips(clips, method=\"compose\")\n",
    "\n"
   ]
  },
  {
   "cell_type": "code",
   "execution_count": 46,
   "id": "22377f55",
   "metadata": {},
   "outputs": [],
   "source": [
    "# 添加音频\n",
    "audio = AudioFileClip(sound_file_path)\n",
    "final_video = video.set_audio(audio)\n",
    "\n"
   ]
  },
  {
   "cell_type": "code",
   "execution_count": 47,
   "id": "74b2e7e1",
   "metadata": {},
   "outputs": [
    {
     "name": "stdout",
     "output_type": "stream",
     "text": [
      "Moviepy - Building video output_video.mp4.\n",
      "MoviePy - Writing audio in output_videoTEMP_MPY_wvf_snd.mp3\n"
     ]
    },
    {
     "name": "stderr",
     "output_type": "stream",
     "text": [
      "chunk:   0%|          | 0/493 [00:00<?, ?it/s, now=None]"
     ]
    },
    {
     "name": "stderr",
     "output_type": "stream",
     "text": [
      "                                                                    "
     ]
    },
    {
     "name": "stdout",
     "output_type": "stream",
     "text": [
      "MoviePy - Done.\n",
      "Moviepy - Writing video output_video.mp4\n",
      "\n"
     ]
    },
    {
     "name": "stderr",
     "output_type": "stream",
     "text": [
      "\r"
     ]
    },
    {
     "ename": "TypeError",
     "evalue": "must be real number, not NoneType",
     "output_type": "error",
     "traceback": [
      "\u001b[0;31m---------------------------------------------------------------------------\u001b[0m",
      "\u001b[0;31mTypeError\u001b[0m                                 Traceback (most recent call last)",
      "Cell \u001b[0;32mIn[47], line 2\u001b[0m\n\u001b[1;32m      1\u001b[0m \u001b[38;5;66;03m# 输出最终视频文件\u001b[39;00m\n\u001b[0;32m----> 2\u001b[0m \u001b[43mfinal_video\u001b[49m\u001b[38;5;241;43m.\u001b[39;49m\u001b[43mwrite_videofile\u001b[49m\u001b[43m(\u001b[49m\u001b[38;5;124;43m\"\u001b[39;49m\u001b[38;5;124;43moutput_video.mp4\u001b[39;49m\u001b[38;5;124;43m\"\u001b[39;49m\u001b[43m,\u001b[49m\u001b[43m \u001b[49m\u001b[43mcodec\u001b[49m\u001b[38;5;241;43m=\u001b[39;49m\u001b[38;5;124;43m\"\u001b[39;49m\u001b[38;5;124;43mlibx264\u001b[39;49m\u001b[38;5;124;43m\"\u001b[39;49m\u001b[43m,\u001b[49m\u001b[43m \u001b[49m\u001b[43mfps\u001b[49m\u001b[38;5;241;43m=\u001b[39;49m\u001b[38;5;241;43m24\u001b[39;49m\u001b[43m)\u001b[49m\n",
      "File \u001b[0;32m~/miniconda3/envs/auto-upload/lib/python3.12/site-packages/decorator.py:232\u001b[0m, in \u001b[0;36mdecorate.<locals>.fun\u001b[0;34m(*args, **kw)\u001b[0m\n\u001b[1;32m    230\u001b[0m \u001b[38;5;28;01mif\u001b[39;00m \u001b[38;5;129;01mnot\u001b[39;00m kwsyntax:\n\u001b[1;32m    231\u001b[0m     args, kw \u001b[38;5;241m=\u001b[39m fix(args, kw, sig)\n\u001b[0;32m--> 232\u001b[0m \u001b[38;5;28;01mreturn\u001b[39;00m \u001b[43mcaller\u001b[49m\u001b[43m(\u001b[49m\u001b[43mfunc\u001b[49m\u001b[43m,\u001b[49m\u001b[43m \u001b[49m\u001b[38;5;241;43m*\u001b[39;49m\u001b[43m(\u001b[49m\u001b[43mextras\u001b[49m\u001b[43m \u001b[49m\u001b[38;5;241;43m+\u001b[39;49m\u001b[43m \u001b[49m\u001b[43margs\u001b[49m\u001b[43m)\u001b[49m\u001b[43m,\u001b[49m\u001b[43m \u001b[49m\u001b[38;5;241;43m*\u001b[39;49m\u001b[38;5;241;43m*\u001b[39;49m\u001b[43mkw\u001b[49m\u001b[43m)\u001b[49m\n",
      "File \u001b[0;32m~/miniconda3/envs/auto-upload/lib/python3.12/site-packages/moviepy/decorators.py:56\u001b[0m, in \u001b[0;36mrequires_duration\u001b[0;34m(f, clip, *a, **k)\u001b[0m\n\u001b[1;32m     54\u001b[0m     \u001b[38;5;28;01mraise\u001b[39;00m \u001b[38;5;167;01mValueError\u001b[39;00m(\u001b[38;5;124m\"\u001b[39m\u001b[38;5;124mAttribute \u001b[39m\u001b[38;5;124m'\u001b[39m\u001b[38;5;124mduration\u001b[39m\u001b[38;5;124m'\u001b[39m\u001b[38;5;124m not set\u001b[39m\u001b[38;5;124m\"\u001b[39m)\n\u001b[1;32m     55\u001b[0m \u001b[38;5;28;01melse\u001b[39;00m:\n\u001b[0;32m---> 56\u001b[0m     \u001b[38;5;28;01mreturn\u001b[39;00m \u001b[43mf\u001b[49m\u001b[43m(\u001b[49m\u001b[43mclip\u001b[49m\u001b[43m,\u001b[49m\u001b[43m \u001b[49m\u001b[38;5;241;43m*\u001b[39;49m\u001b[43ma\u001b[49m\u001b[43m,\u001b[49m\u001b[43m \u001b[49m\u001b[38;5;241;43m*\u001b[39;49m\u001b[38;5;241;43m*\u001b[39;49m\u001b[43mk\u001b[49m\u001b[43m)\u001b[49m\n",
      "File \u001b[0;32m~/miniconda3/envs/auto-upload/lib/python3.12/site-packages/decorator.py:232\u001b[0m, in \u001b[0;36mdecorate.<locals>.fun\u001b[0;34m(*args, **kw)\u001b[0m\n\u001b[1;32m    230\u001b[0m \u001b[38;5;28;01mif\u001b[39;00m \u001b[38;5;129;01mnot\u001b[39;00m kwsyntax:\n\u001b[1;32m    231\u001b[0m     args, kw \u001b[38;5;241m=\u001b[39m fix(args, kw, sig)\n\u001b[0;32m--> 232\u001b[0m \u001b[38;5;28;01mreturn\u001b[39;00m \u001b[43mcaller\u001b[49m\u001b[43m(\u001b[49m\u001b[43mfunc\u001b[49m\u001b[43m,\u001b[49m\u001b[43m \u001b[49m\u001b[38;5;241;43m*\u001b[39;49m\u001b[43m(\u001b[49m\u001b[43mextras\u001b[49m\u001b[43m \u001b[49m\u001b[38;5;241;43m+\u001b[39;49m\u001b[43m \u001b[49m\u001b[43margs\u001b[49m\u001b[43m)\u001b[49m\u001b[43m,\u001b[49m\u001b[43m \u001b[49m\u001b[38;5;241;43m*\u001b[39;49m\u001b[38;5;241;43m*\u001b[39;49m\u001b[43mkw\u001b[49m\u001b[43m)\u001b[49m\n",
      "File \u001b[0;32m~/miniconda3/envs/auto-upload/lib/python3.12/site-packages/moviepy/decorators.py:135\u001b[0m, in \u001b[0;36muse_clip_fps_by_default\u001b[0;34m(f, clip, *a, **k)\u001b[0m\n\u001b[1;32m    132\u001b[0m new_a \u001b[38;5;241m=\u001b[39m [fun(arg) \u001b[38;5;28;01mif\u001b[39;00m (name \u001b[38;5;241m==\u001b[39m \u001b[38;5;124m\"\u001b[39m\u001b[38;5;124mfps\u001b[39m\u001b[38;5;124m\"\u001b[39m) \u001b[38;5;28;01melse\u001b[39;00m arg \u001b[38;5;28;01mfor\u001b[39;00m (arg, name) \u001b[38;5;129;01min\u001b[39;00m \u001b[38;5;28mzip\u001b[39m(a, names)]\n\u001b[1;32m    133\u001b[0m new_kw \u001b[38;5;241m=\u001b[39m {k: fun(v) \u001b[38;5;28;01mif\u001b[39;00m k \u001b[38;5;241m==\u001b[39m \u001b[38;5;124m\"\u001b[39m\u001b[38;5;124mfps\u001b[39m\u001b[38;5;124m\"\u001b[39m \u001b[38;5;28;01melse\u001b[39;00m v \u001b[38;5;28;01mfor\u001b[39;00m (k, v) \u001b[38;5;129;01min\u001b[39;00m k\u001b[38;5;241m.\u001b[39mitems()}\n\u001b[0;32m--> 135\u001b[0m \u001b[38;5;28;01mreturn\u001b[39;00m \u001b[43mf\u001b[49m\u001b[43m(\u001b[49m\u001b[43mclip\u001b[49m\u001b[43m,\u001b[49m\u001b[43m \u001b[49m\u001b[38;5;241;43m*\u001b[39;49m\u001b[43mnew_a\u001b[49m\u001b[43m,\u001b[49m\u001b[43m \u001b[49m\u001b[38;5;241;43m*\u001b[39;49m\u001b[38;5;241;43m*\u001b[39;49m\u001b[43mnew_kw\u001b[49m\u001b[43m)\u001b[49m\n",
      "File \u001b[0;32m~/miniconda3/envs/auto-upload/lib/python3.12/site-packages/decorator.py:232\u001b[0m, in \u001b[0;36mdecorate.<locals>.fun\u001b[0;34m(*args, **kw)\u001b[0m\n\u001b[1;32m    230\u001b[0m \u001b[38;5;28;01mif\u001b[39;00m \u001b[38;5;129;01mnot\u001b[39;00m kwsyntax:\n\u001b[1;32m    231\u001b[0m     args, kw \u001b[38;5;241m=\u001b[39m fix(args, kw, sig)\n\u001b[0;32m--> 232\u001b[0m \u001b[38;5;28;01mreturn\u001b[39;00m \u001b[43mcaller\u001b[49m\u001b[43m(\u001b[49m\u001b[43mfunc\u001b[49m\u001b[43m,\u001b[49m\u001b[43m \u001b[49m\u001b[38;5;241;43m*\u001b[39;49m\u001b[43m(\u001b[49m\u001b[43mextras\u001b[49m\u001b[43m \u001b[49m\u001b[38;5;241;43m+\u001b[39;49m\u001b[43m \u001b[49m\u001b[43margs\u001b[49m\u001b[43m)\u001b[49m\u001b[43m,\u001b[49m\u001b[43m \u001b[49m\u001b[38;5;241;43m*\u001b[39;49m\u001b[38;5;241;43m*\u001b[39;49m\u001b[43mkw\u001b[49m\u001b[43m)\u001b[49m\n",
      "File \u001b[0;32m~/miniconda3/envs/auto-upload/lib/python3.12/site-packages/moviepy/decorators.py:24\u001b[0m, in \u001b[0;36mconvert_masks_to_RGB\u001b[0;34m(f, clip, *a, **k)\u001b[0m\n\u001b[1;32m     22\u001b[0m \u001b[38;5;28;01mif\u001b[39;00m clip\u001b[38;5;241m.\u001b[39mismask:\n\u001b[1;32m     23\u001b[0m     clip \u001b[38;5;241m=\u001b[39m clip\u001b[38;5;241m.\u001b[39mto_RGB()\n\u001b[0;32m---> 24\u001b[0m \u001b[38;5;28;01mreturn\u001b[39;00m \u001b[43mf\u001b[49m\u001b[43m(\u001b[49m\u001b[43mclip\u001b[49m\u001b[43m,\u001b[49m\u001b[43m \u001b[49m\u001b[38;5;241;43m*\u001b[39;49m\u001b[43ma\u001b[49m\u001b[43m,\u001b[49m\u001b[43m \u001b[49m\u001b[38;5;241;43m*\u001b[39;49m\u001b[38;5;241;43m*\u001b[39;49m\u001b[43mk\u001b[49m\u001b[43m)\u001b[49m\n",
      "File \u001b[0;32m~/miniconda3/envs/auto-upload/lib/python3.12/site-packages/decorator.py:232\u001b[0m, in \u001b[0;36mdecorate.<locals>.fun\u001b[0;34m(*args, **kw)\u001b[0m\n\u001b[1;32m    230\u001b[0m \u001b[38;5;28;01mif\u001b[39;00m \u001b[38;5;129;01mnot\u001b[39;00m kwsyntax:\n\u001b[1;32m    231\u001b[0m     args, kw \u001b[38;5;241m=\u001b[39m fix(args, kw, sig)\n\u001b[0;32m--> 232\u001b[0m \u001b[38;5;28;01mreturn\u001b[39;00m \u001b[43mcaller\u001b[49m\u001b[43m(\u001b[49m\u001b[43mfunc\u001b[49m\u001b[43m,\u001b[49m\u001b[43m \u001b[49m\u001b[38;5;241;43m*\u001b[39;49m\u001b[43m(\u001b[49m\u001b[43mextras\u001b[49m\u001b[43m \u001b[49m\u001b[38;5;241;43m+\u001b[39;49m\u001b[43m \u001b[49m\u001b[43margs\u001b[49m\u001b[43m)\u001b[49m\u001b[43m,\u001b[49m\u001b[43m \u001b[49m\u001b[38;5;241;43m*\u001b[39;49m\u001b[38;5;241;43m*\u001b[39;49m\u001b[43mkw\u001b[49m\u001b[43m)\u001b[49m\n",
      "File \u001b[0;32m~/miniconda3/envs/auto-upload/lib/python3.12/site-packages/moviepy/decorators.py:89\u001b[0m, in \u001b[0;36mpreprocess_args.<locals>.wrapper\u001b[0;34m(f, *a, **kw)\u001b[0m\n\u001b[1;32m     84\u001b[0m new_a \u001b[38;5;241m=\u001b[39m [\n\u001b[1;32m     85\u001b[0m     fun(arg) \u001b[38;5;28;01mif\u001b[39;00m (name \u001b[38;5;129;01min\u001b[39;00m varnames) \u001b[38;5;129;01mand\u001b[39;00m (arg \u001b[38;5;129;01mis\u001b[39;00m \u001b[38;5;129;01mnot\u001b[39;00m \u001b[38;5;28;01mNone\u001b[39;00m) \u001b[38;5;28;01melse\u001b[39;00m arg\n\u001b[1;32m     86\u001b[0m     \u001b[38;5;28;01mfor\u001b[39;00m (arg, name) \u001b[38;5;129;01min\u001b[39;00m \u001b[38;5;28mzip\u001b[39m(a, names)\n\u001b[1;32m     87\u001b[0m ]\n\u001b[1;32m     88\u001b[0m new_kw \u001b[38;5;241m=\u001b[39m {k: fun(v) \u001b[38;5;28;01mif\u001b[39;00m k \u001b[38;5;129;01min\u001b[39;00m varnames \u001b[38;5;28;01melse\u001b[39;00m v \u001b[38;5;28;01mfor\u001b[39;00m (k, v) \u001b[38;5;129;01min\u001b[39;00m kw\u001b[38;5;241m.\u001b[39mitems()}\n\u001b[0;32m---> 89\u001b[0m \u001b[38;5;28;01mreturn\u001b[39;00m \u001b[43mf\u001b[49m\u001b[43m(\u001b[49m\u001b[38;5;241;43m*\u001b[39;49m\u001b[43mnew_a\u001b[49m\u001b[43m,\u001b[49m\u001b[43m \u001b[49m\u001b[38;5;241;43m*\u001b[39;49m\u001b[38;5;241;43m*\u001b[39;49m\u001b[43mnew_kw\u001b[49m\u001b[43m)\u001b[49m\n",
      "File \u001b[0;32m~/miniconda3/envs/auto-upload/lib/python3.12/site-packages/moviepy/video/VideoClip.py:343\u001b[0m, in \u001b[0;36mVideoClip.write_videofile\u001b[0;34m(self, filename, fps, codec, bitrate, audio, audio_fps, preset, audio_nbytes, audio_codec, audio_bitrate, audio_bufsize, temp_audiofile, temp_audiofile_path, rewrite_audio, remove_temp, write_logfile, threads, ffmpeg_params, logger, pix_fmt)\u001b[0m\n\u001b[1;32m    331\u001b[0m \u001b[38;5;28;01mif\u001b[39;00m make_audio:\n\u001b[1;32m    332\u001b[0m     \u001b[38;5;28mself\u001b[39m\u001b[38;5;241m.\u001b[39maudio\u001b[38;5;241m.\u001b[39mwrite_audiofile(\n\u001b[1;32m    333\u001b[0m         audiofile,\n\u001b[1;32m    334\u001b[0m         audio_fps,\n\u001b[0;32m   (...)\u001b[0m\n\u001b[1;32m    340\u001b[0m         logger\u001b[38;5;241m=\u001b[39mlogger,\n\u001b[1;32m    341\u001b[0m     )\n\u001b[0;32m--> 343\u001b[0m \u001b[43mffmpeg_write_video\u001b[49m\u001b[43m(\u001b[49m\n\u001b[1;32m    344\u001b[0m \u001b[43m    \u001b[49m\u001b[38;5;28;43mself\u001b[39;49m\u001b[43m,\u001b[49m\n\u001b[1;32m    345\u001b[0m \u001b[43m    \u001b[49m\u001b[43mfilename\u001b[49m\u001b[43m,\u001b[49m\n\u001b[1;32m    346\u001b[0m \u001b[43m    \u001b[49m\u001b[43mfps\u001b[49m\u001b[43m,\u001b[49m\n\u001b[1;32m    347\u001b[0m \u001b[43m    \u001b[49m\u001b[43mcodec\u001b[49m\u001b[43m,\u001b[49m\n\u001b[1;32m    348\u001b[0m \u001b[43m    \u001b[49m\u001b[43mbitrate\u001b[49m\u001b[38;5;241;43m=\u001b[39;49m\u001b[43mbitrate\u001b[49m\u001b[43m,\u001b[49m\n\u001b[1;32m    349\u001b[0m \u001b[43m    \u001b[49m\u001b[43mpreset\u001b[49m\u001b[38;5;241;43m=\u001b[39;49m\u001b[43mpreset\u001b[49m\u001b[43m,\u001b[49m\n\u001b[1;32m    350\u001b[0m \u001b[43m    \u001b[49m\u001b[43mwrite_logfile\u001b[49m\u001b[38;5;241;43m=\u001b[39;49m\u001b[43mwrite_logfile\u001b[49m\u001b[43m,\u001b[49m\n\u001b[1;32m    351\u001b[0m \u001b[43m    \u001b[49m\u001b[43maudiofile\u001b[49m\u001b[38;5;241;43m=\u001b[39;49m\u001b[43maudiofile\u001b[49m\u001b[43m,\u001b[49m\n\u001b[1;32m    352\u001b[0m \u001b[43m    \u001b[49m\u001b[43mthreads\u001b[49m\u001b[38;5;241;43m=\u001b[39;49m\u001b[43mthreads\u001b[49m\u001b[43m,\u001b[49m\n\u001b[1;32m    353\u001b[0m \u001b[43m    \u001b[49m\u001b[43mffmpeg_params\u001b[49m\u001b[38;5;241;43m=\u001b[39;49m\u001b[43mffmpeg_params\u001b[49m\u001b[43m,\u001b[49m\n\u001b[1;32m    354\u001b[0m \u001b[43m    \u001b[49m\u001b[43mlogger\u001b[49m\u001b[38;5;241;43m=\u001b[39;49m\u001b[43mlogger\u001b[49m\u001b[43m,\u001b[49m\n\u001b[1;32m    355\u001b[0m \u001b[43m    \u001b[49m\u001b[43mpix_fmt\u001b[49m\u001b[38;5;241;43m=\u001b[39;49m\u001b[43mpix_fmt\u001b[49m\u001b[43m,\u001b[49m\n\u001b[1;32m    356\u001b[0m \u001b[43m\u001b[49m\u001b[43m)\u001b[49m\n\u001b[1;32m    358\u001b[0m \u001b[38;5;28;01mif\u001b[39;00m remove_temp \u001b[38;5;129;01mand\u001b[39;00m make_audio:\n\u001b[1;32m    359\u001b[0m     \u001b[38;5;28;01mif\u001b[39;00m os\u001b[38;5;241m.\u001b[39mpath\u001b[38;5;241m.\u001b[39mexists(audiofile):\n",
      "File \u001b[0;32m~/miniconda3/envs/auto-upload/lib/python3.12/site-packages/moviepy/video/io/ffmpeg_writer.py:243\u001b[0m, in \u001b[0;36mffmpeg_write_video\u001b[0;34m(clip, filename, fps, codec, bitrate, preset, withmask, write_logfile, audiofile, threads, ffmpeg_params, logger, pix_fmt)\u001b[0m\n\u001b[1;32m    241\u001b[0m \u001b[38;5;28;01mif\u001b[39;00m \u001b[38;5;129;01mnot\u001b[39;00m pix_fmt:\n\u001b[1;32m    242\u001b[0m     pix_fmt \u001b[38;5;241m=\u001b[39m \u001b[38;5;124m\"\u001b[39m\u001b[38;5;124mrgba\u001b[39m\u001b[38;5;124m\"\u001b[39m \u001b[38;5;28;01mif\u001b[39;00m withmask \u001b[38;5;28;01melse\u001b[39;00m \u001b[38;5;124m\"\u001b[39m\u001b[38;5;124mrgb24\u001b[39m\u001b[38;5;124m\"\u001b[39m\n\u001b[0;32m--> 243\u001b[0m \u001b[38;5;28;01mwith\u001b[39;00m \u001b[43mFFMPEG_VideoWriter\u001b[49m\u001b[43m(\u001b[49m\n\u001b[1;32m    244\u001b[0m \u001b[43m    \u001b[49m\u001b[43mfilename\u001b[49m\u001b[43m,\u001b[49m\n\u001b[1;32m    245\u001b[0m \u001b[43m    \u001b[49m\u001b[43mclip\u001b[49m\u001b[38;5;241;43m.\u001b[39;49m\u001b[43msize\u001b[49m\u001b[43m,\u001b[49m\n\u001b[1;32m    246\u001b[0m \u001b[43m    \u001b[49m\u001b[43mfps\u001b[49m\u001b[43m,\u001b[49m\n\u001b[1;32m    247\u001b[0m \u001b[43m    \u001b[49m\u001b[43mcodec\u001b[49m\u001b[38;5;241;43m=\u001b[39;49m\u001b[43mcodec\u001b[49m\u001b[43m,\u001b[49m\n\u001b[1;32m    248\u001b[0m \u001b[43m    \u001b[49m\u001b[43mpreset\u001b[49m\u001b[38;5;241;43m=\u001b[39;49m\u001b[43mpreset\u001b[49m\u001b[43m,\u001b[49m\n\u001b[1;32m    249\u001b[0m \u001b[43m    \u001b[49m\u001b[43mbitrate\u001b[49m\u001b[38;5;241;43m=\u001b[39;49m\u001b[43mbitrate\u001b[49m\u001b[43m,\u001b[49m\n\u001b[1;32m    250\u001b[0m \u001b[43m    \u001b[49m\u001b[43mlogfile\u001b[49m\u001b[38;5;241;43m=\u001b[39;49m\u001b[43mlogfile\u001b[49m\u001b[43m,\u001b[49m\n\u001b[1;32m    251\u001b[0m \u001b[43m    \u001b[49m\u001b[43maudiofile\u001b[49m\u001b[38;5;241;43m=\u001b[39;49m\u001b[43maudiofile\u001b[49m\u001b[43m,\u001b[49m\n\u001b[1;32m    252\u001b[0m \u001b[43m    \u001b[49m\u001b[43mthreads\u001b[49m\u001b[38;5;241;43m=\u001b[39;49m\u001b[43mthreads\u001b[49m\u001b[43m,\u001b[49m\n\u001b[1;32m    253\u001b[0m \u001b[43m    \u001b[49m\u001b[43mffmpeg_params\u001b[49m\u001b[38;5;241;43m=\u001b[39;49m\u001b[43mffmpeg_params\u001b[49m\u001b[43m,\u001b[49m\n\u001b[1;32m    254\u001b[0m \u001b[43m    \u001b[49m\u001b[43mpix_fmt\u001b[49m\u001b[38;5;241;43m=\u001b[39;49m\u001b[43mpix_fmt\u001b[49m\u001b[43m,\u001b[49m\n\u001b[1;32m    255\u001b[0m \u001b[43m\u001b[49m\u001b[43m)\u001b[49m \u001b[38;5;28;01mas\u001b[39;00m writer:\n\u001b[1;32m    256\u001b[0m     \u001b[38;5;28;01mfor\u001b[39;00m t, frame \u001b[38;5;129;01min\u001b[39;00m clip\u001b[38;5;241m.\u001b[39miter_frames(\n\u001b[1;32m    257\u001b[0m         logger\u001b[38;5;241m=\u001b[39mlogger, with_times\u001b[38;5;241m=\u001b[39m\u001b[38;5;28;01mTrue\u001b[39;00m, fps\u001b[38;5;241m=\u001b[39mfps, dtype\u001b[38;5;241m=\u001b[39m\u001b[38;5;124m\"\u001b[39m\u001b[38;5;124muint8\u001b[39m\u001b[38;5;124m\"\u001b[39m\n\u001b[1;32m    258\u001b[0m     ):\n\u001b[1;32m    259\u001b[0m         \u001b[38;5;28;01mif\u001b[39;00m withmask:\n",
      "File \u001b[0;32m~/miniconda3/envs/auto-upload/lib/python3.12/site-packages/moviepy/video/io/ffmpeg_writer.py:111\u001b[0m, in \u001b[0;36mFFMPEG_VideoWriter.__init__\u001b[0;34m(self, filename, size, fps, codec, audiofile, preset, bitrate, withmask, logfile, threads, ffmpeg_params, pix_fmt)\u001b[0m\n\u001b[1;32m     94\u001b[0m     pix_fmt \u001b[38;5;241m=\u001b[39m \u001b[38;5;124m\"\u001b[39m\u001b[38;5;124mrgba\u001b[39m\u001b[38;5;124m\"\u001b[39m \u001b[38;5;28;01mif\u001b[39;00m withmask \u001b[38;5;28;01melse\u001b[39;00m \u001b[38;5;124m\"\u001b[39m\u001b[38;5;124mrgb24\u001b[39m\u001b[38;5;124m\"\u001b[39m\n\u001b[1;32m     96\u001b[0m \u001b[38;5;66;03m# order is important\u001b[39;00m\n\u001b[1;32m     97\u001b[0m cmd \u001b[38;5;241m=\u001b[39m [\n\u001b[1;32m     98\u001b[0m     FFMPEG_BINARY,\n\u001b[1;32m     99\u001b[0m     \u001b[38;5;124m\"\u001b[39m\u001b[38;5;124m-y\u001b[39m\u001b[38;5;124m\"\u001b[39m,\n\u001b[1;32m    100\u001b[0m     \u001b[38;5;124m\"\u001b[39m\u001b[38;5;124m-loglevel\u001b[39m\u001b[38;5;124m\"\u001b[39m,\n\u001b[1;32m    101\u001b[0m     \u001b[38;5;124m\"\u001b[39m\u001b[38;5;124merror\u001b[39m\u001b[38;5;124m\"\u001b[39m \u001b[38;5;28;01mif\u001b[39;00m logfile \u001b[38;5;241m==\u001b[39m sp\u001b[38;5;241m.\u001b[39mPIPE \u001b[38;5;28;01melse\u001b[39;00m \u001b[38;5;124m\"\u001b[39m\u001b[38;5;124minfo\u001b[39m\u001b[38;5;124m\"\u001b[39m,\n\u001b[1;32m    102\u001b[0m     \u001b[38;5;124m\"\u001b[39m\u001b[38;5;124m-f\u001b[39m\u001b[38;5;124m\"\u001b[39m,\n\u001b[1;32m    103\u001b[0m     \u001b[38;5;124m\"\u001b[39m\u001b[38;5;124mrawvideo\u001b[39m\u001b[38;5;124m\"\u001b[39m,\n\u001b[1;32m    104\u001b[0m     \u001b[38;5;124m\"\u001b[39m\u001b[38;5;124m-vcodec\u001b[39m\u001b[38;5;124m\"\u001b[39m,\n\u001b[1;32m    105\u001b[0m     \u001b[38;5;124m\"\u001b[39m\u001b[38;5;124mrawvideo\u001b[39m\u001b[38;5;124m\"\u001b[39m,\n\u001b[1;32m    106\u001b[0m     \u001b[38;5;124m\"\u001b[39m\u001b[38;5;124m-s\u001b[39m\u001b[38;5;124m\"\u001b[39m,\n\u001b[1;32m    107\u001b[0m     \u001b[38;5;124m\"\u001b[39m\u001b[38;5;132;01m%d\u001b[39;00m\u001b[38;5;124mx\u001b[39m\u001b[38;5;132;01m%d\u001b[39;00m\u001b[38;5;124m\"\u001b[39m \u001b[38;5;241m%\u001b[39m (size[\u001b[38;5;241m0\u001b[39m], size[\u001b[38;5;241m1\u001b[39m]),\n\u001b[1;32m    108\u001b[0m     \u001b[38;5;124m\"\u001b[39m\u001b[38;5;124m-pix_fmt\u001b[39m\u001b[38;5;124m\"\u001b[39m,\n\u001b[1;32m    109\u001b[0m     pix_fmt,\n\u001b[1;32m    110\u001b[0m     \u001b[38;5;124m\"\u001b[39m\u001b[38;5;124m-r\u001b[39m\u001b[38;5;124m\"\u001b[39m,\n\u001b[0;32m--> 111\u001b[0m     \u001b[38;5;124;43m\"\u001b[39;49m\u001b[38;5;132;43;01m%.02f\u001b[39;49;00m\u001b[38;5;124;43m\"\u001b[39;49m\u001b[43m \u001b[49m\u001b[38;5;241;43m%\u001b[39;49m\u001b[43m \u001b[49m\u001b[43mfps\u001b[49m,\n\u001b[1;32m    112\u001b[0m     \u001b[38;5;124m\"\u001b[39m\u001b[38;5;124m-an\u001b[39m\u001b[38;5;124m\"\u001b[39m,\n\u001b[1;32m    113\u001b[0m     \u001b[38;5;124m\"\u001b[39m\u001b[38;5;124m-i\u001b[39m\u001b[38;5;124m\"\u001b[39m,\n\u001b[1;32m    114\u001b[0m     \u001b[38;5;124m\"\u001b[39m\u001b[38;5;124m-\u001b[39m\u001b[38;5;124m\"\u001b[39m,\n\u001b[1;32m    115\u001b[0m ]\n\u001b[1;32m    116\u001b[0m \u001b[38;5;28;01mif\u001b[39;00m audiofile \u001b[38;5;129;01mis\u001b[39;00m \u001b[38;5;129;01mnot\u001b[39;00m \u001b[38;5;28;01mNone\u001b[39;00m:\n\u001b[1;32m    117\u001b[0m     cmd\u001b[38;5;241m.\u001b[39mextend([\u001b[38;5;124m\"\u001b[39m\u001b[38;5;124m-i\u001b[39m\u001b[38;5;124m\"\u001b[39m, audiofile, \u001b[38;5;124m\"\u001b[39m\u001b[38;5;124m-acodec\u001b[39m\u001b[38;5;124m\"\u001b[39m, \u001b[38;5;124m\"\u001b[39m\u001b[38;5;124mcopy\u001b[39m\u001b[38;5;124m\"\u001b[39m])\n",
      "\u001b[0;31mTypeError\u001b[0m: must be real number, not NoneType"
     ]
    }
   ],
   "source": [
    "# 输出最终视频文件\n",
    "final_video.write_videofile(\"output_video.mp4\", codec=\"libx264\", fps=24)\n",
    "\n"
   ]
  },
  {
   "cell_type": "code",
   "execution_count": null,
   "id": "8ca46661",
   "metadata": {},
   "outputs": [],
   "source": [
    "# 清理临时文件\n",
    "for temp_file in temp_files:\n",
    "    os.unlink(temp_file)"
   ]
  }
 ],
 "metadata": {
  "kernelspec": {
   "display_name": "Python 3 (ipykernel)",
   "language": "python",
   "name": "python3"
  },
  "language_info": {
   "codemirror_mode": {
    "name": "ipython",
    "version": 3
   },
   "file_extension": ".py",
   "mimetype": "text/x-python",
   "name": "python",
   "nbconvert_exporter": "python",
   "pygments_lexer": "ipython3",
   "version": "3.12.3"
  }
 },
 "nbformat": 4,
 "nbformat_minor": 5
}
